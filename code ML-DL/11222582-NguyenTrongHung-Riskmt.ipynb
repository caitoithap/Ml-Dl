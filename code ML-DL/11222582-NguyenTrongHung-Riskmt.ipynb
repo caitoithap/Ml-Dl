{
 "cells": [
  {
   "cell_type": "markdown",
   "metadata": {},
   "source": [
    "# I.Data loading and EDA"
   ]
  },
  {
   "cell_type": "code",
   "execution_count": 44,
   "metadata": {},
   "outputs": [],
   "source": [
    "import pandas as pd"
   ]
  },
  {
   "cell_type": "code",
   "execution_count": 45,
   "metadata": {},
   "outputs": [
    {
     "data": {
      "application/vnd.microsoft.datawrangler.viewer.v0+json": {
       "columns": [
        {
         "name": "index",
         "rawType": "int64",
         "type": "integer"
        },
        {
         "name": "REASON",
         "rawType": "object",
         "type": "unknown"
        },
        {
         "name": "JOB",
         "rawType": "object",
         "type": "unknown"
        },
        {
         "name": "BAD",
         "rawType": "int64",
         "type": "integer"
        },
        {
         "name": "LOAN",
         "rawType": "int64",
         "type": "integer"
        },
        {
         "name": "MORTDUE",
         "rawType": "float64",
         "type": "float"
        },
        {
         "name": "VALUE",
         "rawType": "float64",
         "type": "float"
        },
        {
         "name": "YOJ",
         "rawType": "float64",
         "type": "float"
        },
        {
         "name": "DEROG",
         "rawType": "float64",
         "type": "float"
        },
        {
         "name": "DELINQ",
         "rawType": "float64",
         "type": "float"
        },
        {
         "name": "CLAGE",
         "rawType": "float64",
         "type": "float"
        },
        {
         "name": "NINQ",
         "rawType": "float64",
         "type": "float"
        },
        {
         "name": "DEBTINC",
         "rawType": "float64",
         "type": "float"
        },
        {
         "name": "gDEBTINC",
         "rawType": "int64",
         "type": "integer"
        }
       ],
       "conversionMethod": "pd.DataFrame",
       "ref": "b1830c69-a38b-4229-b298-4809af370d74",
       "rows": [
        [
         "0",
         null,
         null,
         "0",
         "4400",
         null,
         "60250.0",
         null,
         null,
         null,
         null,
         null,
         null,
         "3"
        ],
        [
         "1",
         "HomeImp",
         "Other",
         "1",
         "2300",
         "37626.0",
         "46200.0",
         "3.0",
         "0.0",
         "1.0",
         "122.266666666667",
         "1.0",
         null,
         "3"
        ],
        [
         "2",
         "DebtCon",
         null,
         "0",
         "5400",
         "53429.0",
         "64505.0",
         "5.0",
         null,
         "0.0",
         "69.5424301072283",
         null,
         "36.4802362989822",
         "1"
        ],
        [
         "3",
         "HomeImp",
         "Mgr",
         "0",
         "3600",
         "61327.0",
         "76484.0",
         "9.0",
         null,
         "2.0",
         "202.51077515241",
         "0.0",
         "41.5163896993251",
         "1"
        ],
        [
         "4",
         "HomeImp",
         "Office",
         "0",
         "3800",
         "51180.0",
         "63459.0",
         "20.0",
         "0.0",
         "0.0",
         "203.751533578916",
         "0.0",
         "20.067042050961",
         "1"
        ]
       ],
       "shape": {
        "columns": 13,
        "rows": 5
       }
      },
      "text/html": [
       "<div>\n",
       "<style scoped>\n",
       "    .dataframe tbody tr th:only-of-type {\n",
       "        vertical-align: middle;\n",
       "    }\n",
       "\n",
       "    .dataframe tbody tr th {\n",
       "        vertical-align: top;\n",
       "    }\n",
       "\n",
       "    .dataframe thead th {\n",
       "        text-align: right;\n",
       "    }\n",
       "</style>\n",
       "<table border=\"1\" class=\"dataframe\">\n",
       "  <thead>\n",
       "    <tr style=\"text-align: right;\">\n",
       "      <th></th>\n",
       "      <th>REASON</th>\n",
       "      <th>JOB</th>\n",
       "      <th>BAD</th>\n",
       "      <th>LOAN</th>\n",
       "      <th>MORTDUE</th>\n",
       "      <th>VALUE</th>\n",
       "      <th>YOJ</th>\n",
       "      <th>DEROG</th>\n",
       "      <th>DELINQ</th>\n",
       "      <th>CLAGE</th>\n",
       "      <th>NINQ</th>\n",
       "      <th>DEBTINC</th>\n",
       "      <th>gDEBTINC</th>\n",
       "    </tr>\n",
       "  </thead>\n",
       "  <tbody>\n",
       "    <tr>\n",
       "      <th>0</th>\n",
       "      <td>NaN</td>\n",
       "      <td>NaN</td>\n",
       "      <td>0</td>\n",
       "      <td>4400</td>\n",
       "      <td>NaN</td>\n",
       "      <td>60250.0</td>\n",
       "      <td>NaN</td>\n",
       "      <td>NaN</td>\n",
       "      <td>NaN</td>\n",
       "      <td>NaN</td>\n",
       "      <td>NaN</td>\n",
       "      <td>NaN</td>\n",
       "      <td>3</td>\n",
       "    </tr>\n",
       "    <tr>\n",
       "      <th>1</th>\n",
       "      <td>HomeImp</td>\n",
       "      <td>Other</td>\n",
       "      <td>1</td>\n",
       "      <td>2300</td>\n",
       "      <td>37626.0</td>\n",
       "      <td>46200.0</td>\n",
       "      <td>3.0</td>\n",
       "      <td>0.0</td>\n",
       "      <td>1.0</td>\n",
       "      <td>122.266667</td>\n",
       "      <td>1.0</td>\n",
       "      <td>NaN</td>\n",
       "      <td>3</td>\n",
       "    </tr>\n",
       "    <tr>\n",
       "      <th>2</th>\n",
       "      <td>DebtCon</td>\n",
       "      <td>NaN</td>\n",
       "      <td>0</td>\n",
       "      <td>5400</td>\n",
       "      <td>53429.0</td>\n",
       "      <td>64505.0</td>\n",
       "      <td>5.0</td>\n",
       "      <td>NaN</td>\n",
       "      <td>0.0</td>\n",
       "      <td>69.542430</td>\n",
       "      <td>NaN</td>\n",
       "      <td>36.480236</td>\n",
       "      <td>1</td>\n",
       "    </tr>\n",
       "    <tr>\n",
       "      <th>3</th>\n",
       "      <td>HomeImp</td>\n",
       "      <td>Mgr</td>\n",
       "      <td>0</td>\n",
       "      <td>3600</td>\n",
       "      <td>61327.0</td>\n",
       "      <td>76484.0</td>\n",
       "      <td>9.0</td>\n",
       "      <td>NaN</td>\n",
       "      <td>2.0</td>\n",
       "      <td>202.510775</td>\n",
       "      <td>0.0</td>\n",
       "      <td>41.516390</td>\n",
       "      <td>1</td>\n",
       "    </tr>\n",
       "    <tr>\n",
       "      <th>4</th>\n",
       "      <td>HomeImp</td>\n",
       "      <td>Office</td>\n",
       "      <td>0</td>\n",
       "      <td>3800</td>\n",
       "      <td>51180.0</td>\n",
       "      <td>63459.0</td>\n",
       "      <td>20.0</td>\n",
       "      <td>0.0</td>\n",
       "      <td>0.0</td>\n",
       "      <td>203.751534</td>\n",
       "      <td>0.0</td>\n",
       "      <td>20.067042</td>\n",
       "      <td>1</td>\n",
       "    </tr>\n",
       "  </tbody>\n",
       "</table>\n",
       "</div>"
      ],
      "text/plain": [
       "    REASON     JOB  BAD  LOAN  MORTDUE    VALUE   YOJ  DEROG  DELINQ  \\\n",
       "0      NaN     NaN    0  4400      NaN  60250.0   NaN    NaN     NaN   \n",
       "1  HomeImp   Other    1  2300  37626.0  46200.0   3.0    0.0     1.0   \n",
       "2  DebtCon     NaN    0  5400  53429.0  64505.0   5.0    NaN     0.0   \n",
       "3  HomeImp     Mgr    0  3600  61327.0  76484.0   9.0    NaN     2.0   \n",
       "4  HomeImp  Office    0  3800  51180.0  63459.0  20.0    0.0     0.0   \n",
       "\n",
       "        CLAGE  NINQ    DEBTINC  gDEBTINC  \n",
       "0         NaN   NaN        NaN         3  \n",
       "1  122.266667   1.0        NaN         3  \n",
       "2   69.542430   NaN  36.480236         1  \n",
       "3  202.510775   0.0  41.516390         1  \n",
       "4  203.751534   0.0  20.067042         1  "
      ]
     },
     "execution_count": 45,
     "metadata": {},
     "output_type": "execute_result"
    }
   ],
   "source": [
    "df = pd.read_excel(\"D:/hmeq.xls\")\n",
    "df.head()"
   ]
  },
  {
   "cell_type": "code",
   "execution_count": 46,
   "metadata": {},
   "outputs": [
    {
     "data": {
      "text/plain": [
       "(5960, 13)"
      ]
     },
     "execution_count": 46,
     "metadata": {},
     "output_type": "execute_result"
    }
   ],
   "source": [
    "df.shape"
   ]
  },
  {
   "cell_type": "code",
   "execution_count": 47,
   "metadata": {},
   "outputs": [
    {
     "name": "stdout",
     "output_type": "stream",
     "text": [
      "<class 'pandas.core.frame.DataFrame'>\n",
      "RangeIndex: 5960 entries, 0 to 5959\n",
      "Data columns (total 13 columns):\n",
      " #   Column    Non-Null Count  Dtype  \n",
      "---  ------    --------------  -----  \n",
      " 0   REASON    5708 non-null   object \n",
      " 1   JOB       5681 non-null   object \n",
      " 2   BAD       5960 non-null   int64  \n",
      " 3   LOAN      5960 non-null   int64  \n",
      " 4   MORTDUE   5442 non-null   float64\n",
      " 5   VALUE     5848 non-null   float64\n",
      " 6   YOJ       5445 non-null   float64\n",
      " 7   DEROG     5252 non-null   float64\n",
      " 8   DELINQ    5380 non-null   float64\n",
      " 9   CLAGE     5652 non-null   float64\n",
      " 10  NINQ      5450 non-null   float64\n",
      " 11  DEBTINC   4693 non-null   float64\n",
      " 12  gDEBTINC  5960 non-null   int64  \n",
      "dtypes: float64(8), int64(3), object(2)\n",
      "memory usage: 605.4+ KB\n"
     ]
    }
   ],
   "source": [
    "df.info()"
   ]
  },
  {
   "cell_type": "code",
   "execution_count": 48,
   "metadata": {},
   "outputs": [
    {
     "data": {
      "text/plain": [
       "REASON       252\n",
       "JOB          279\n",
       "BAD            0\n",
       "LOAN           0\n",
       "MORTDUE      518\n",
       "VALUE        112\n",
       "YOJ          515\n",
       "DEROG        708\n",
       "DELINQ       580\n",
       "CLAGE        308\n",
       "NINQ         510\n",
       "DEBTINC     1267\n",
       "gDEBTINC       0\n",
       "dtype: int64"
      ]
     },
     "execution_count": 48,
     "metadata": {},
     "output_type": "execute_result"
    }
   ],
   "source": [
    "df.isna().sum()"
   ]
  },
  {
   "cell_type": "code",
   "execution_count": 49,
   "metadata": {},
   "outputs": [],
   "source": [
    "df = df.drop_duplicates()"
   ]
  },
  {
   "cell_type": "markdown",
   "metadata": {},
   "source": [
    "Dữ liệu gồm các biến:\n",
    "\n",
    "BAD: Biến mục tiêu (1 = vỡ nợ, 0 = không vỡ nợ)\n",
    "\n",
    "LOAN: Số tiền vay\n",
    "\n",
    "MORTDUE: Số tiền nợ trên thế chấp\n",
    "\n",
    "VALUE: Giá trị tài sản\n",
    "\n",
    "YOJ: Số năm làm việc\n",
    "\n",
    "DEROG: Số lần bị đánh giá tiêu cực tín dụng\n",
    "\n",
    "DELINQ: Số lần thanh toán chậm\n",
    "\n",
    "CLAGE: Tuổi trung bình của tài khoản tín dụng\n",
    "\n",
    "NINQ: Số lượng truy vấn tín dụng gần đây\n",
    "\n",
    "CLNO: Số lượng tài khoản tín dụng\n",
    "\n",
    "DEBTINC: Tỷ lệ nợ trên thu nhập"
   ]
  },
  {
   "cell_type": "code",
   "execution_count": 50,
   "metadata": {},
   "outputs": [
    {
     "data": {
      "image/png": "[encoded data removed]",
      "text/plain": [
       "<Figure size 640x480 with 1 Axes>"
      ]
     },
     "metadata": {},
     "output_type": "display_data"
    }
   ],
   "source": [
    "import matplotlib.pyplot as plt\n",
    "\n",
    "plt.figure()\n",
    "df[\"BAD\"].value_counts().plot(kind=\"bar\")\n",
    "plt.title(\"Lable\")\n",
    "plt.show()"
   ]
  },
  {
   "cell_type": "code",
   "execution_count": 51,
   "metadata": {},
   "outputs": [
    {
     "data": {
      "image/png": "[encoded data removed]",
      "text/plain": [
       "<Figure size 3000x3000 with 10 Axes>"
      ]
     },
     "metadata": {},
     "output_type": "display_data"
    }
   ],
   "source": [
    "# Visualize boxplots of numerical columns\n",
    "import seaborn as sns\n",
    "\n",
    "feature_cols = list(set(df.columns) - {'REASON','JOB'})\n",
    "feature_colss = list(set(df.columns)-{'REASON','JOB','BAD'})\n",
    "plt.figure(figsize = (30,30))\n",
    "for i, col in enumerate(feature_colss):\n",
    "    plt.subplot(5,6, i +1)\n",
    "    sns.boxplot(x =\"BAD\", y = col, data = df)\n",
    "    plt.title(col)\n",
    "    \n",
    "plt.show()"
   ]
  },
  {
   "cell_type": "code",
   "execution_count": 52,
   "metadata": {},
   "outputs": [
    {
     "data": {
      "text/plain": [
       "<Axes: >"
      ]
     },
     "execution_count": 52,
     "metadata": {},
     "output_type": "execute_result"
    },
    {
     "data": {
      "image/png": "[encoded data removed]",
      "text/plain": [
       "<Figure size 640x480 with 2 Axes>"
      ]
     },
     "metadata": {},
     "output_type": "display_data"
    }
   ],
   "source": [
    "# Correlation in the training set\n",
    "C = df[feature_cols].corr()\n",
    "sns.heatmap(C, cmap = 'coolwarm_r')"
   ]
  },
  {
   "cell_type": "code",
   "execution_count": 53,
   "metadata": {},
   "outputs": [
    {
     "name": "stdout",
     "output_type": "stream",
     "text": [
      "gDEBTINC    0.58\n",
      "DELINQ      0.35\n",
      "DEROG       0.28\n",
      "DEBTINC     0.20\n",
      "NINQ        0.17\n",
      "VALUE      -0.03\n",
      "MORTDUE    -0.05\n",
      "YOJ        -0.06\n",
      "LOAN       -0.08\n",
      "CLAGE      -0.17\n",
      "Name: BAD, dtype: float64\n"
     ]
    }
   ],
   "source": [
    "# Determine correlation order between the target and features\n",
    "import numpy as np\n",
    "C.sort_values(by = 'BAD', ascending = False, inplace = True)\n",
    "\n",
    "print(np.round(C['BAD'][1:], 2))"
   ]
  },
  {
   "cell_type": "markdown",
   "metadata": {},
   "source": [
    "# II. Datapreprocessing"
   ]
  },
  {
   "cell_type": "markdown",
   "metadata": {},
   "source": [
    "## 1. Train,test,spltting"
   ]
  },
  {
   "cell_type": "code",
   "execution_count": 54,
   "metadata": {},
   "outputs": [],
   "source": [
    "from sklearn.model_selection import train_test_split\n",
    "\n",
    "target = \"BAD\"\n",
    "x = df.drop(target, axis=1)\n",
    "y = df[target]\n",
    "\n",
    "x_train,x_test,y_train,y_test = train_test_split(x,y,test_size=0.2 ,random_state=42)\n"
   ]
  },
  {
   "cell_type": "code",
   "execution_count": 55,
   "metadata": {},
   "outputs": [
    {
     "data": {
      "application/vnd.microsoft.datawrangler.viewer.v0+json": {
       "columns": [
        {
         "name": "index",
         "rawType": "int64",
         "type": "integer"
        },
        {
         "name": "REASON",
         "rawType": "object",
         "type": "unknown"
        },
        {
         "name": "JOB",
         "rawType": "object",
         "type": "unknown"
        },
        {
         "name": "LOAN",
         "rawType": "int64",
         "type": "integer"
        },
        {
         "name": "MORTDUE",
         "rawType": "float64",
         "type": "float"
        },
        {
         "name": "VALUE",
         "rawType": "float64",
         "type": "float"
        },
        {
         "name": "YOJ",
         "rawType": "float64",
         "type": "float"
        },
        {
         "name": "DEROG",
         "rawType": "float64",
         "type": "float"
        },
        {
         "name": "DELINQ",
         "rawType": "float64",
         "type": "float"
        },
        {
         "name": "CLAGE",
         "rawType": "float64",
         "type": "float"
        },
        {
         "name": "NINQ",
         "rawType": "float64",
         "type": "float"
        },
        {
         "name": "DEBTINC",
         "rawType": "float64",
         "type": "float"
        },
        {
         "name": "gDEBTINC",
         "rawType": "int64",
         "type": "integer"
        }
       ],
       "conversionMethod": "pd.DataFrame",
       "ref": "0a15963a-0a55-4b7f-972b-8ac10aaf2e47",
       "rows": [
        [
         "944",
         "HomeImp",
         "Other",
         "7400",
         "2063.0",
         "100448.0",
         null,
         "0.0",
         "0.0",
         "96.1333333333333",
         "0.0",
         null,
         "3"
        ],
        [
         "5755",
         "HomeImp",
         "ProfExe",
         "14100",
         "98856.0",
         "143292.0",
         "13.0",
         "0.0",
         "0.0",
         "105.771726108433",
         "4.0",
         "37.4582804006144",
         "1"
        ],
        [
         "2259",
         "HomeImp",
         "Other",
         "9600",
         "77359.0",
         "101365.0",
         "1.0",
         "0.0",
         "0.0",
         "182.803514454948",
         "0.0",
         "33.4819101334",
         "1"
        ],
        [
         "12",
         "DebtCon",
         "Mgr",
         "5000",
         "72517.0",
         "86250.0",
         "19.0",
         "0.0",
         "1.0",
         "300.366666666667",
         "1.0",
         null,
         "3"
        ],
        [
         "1117",
         "DebtCon",
         "Mgr",
         "13500",
         "40023.0",
         "67357.0",
         null,
         null,
         null,
         null,
         null,
         "38.3194258510086",
         "1"
        ],
        [
         "4333",
         "HomeImp",
         "Sales",
         "7500",
         "72097.0",
         "69408.0",
         "4.0",
         "1.0",
         "0.0",
         "155.391962226576",
         "1.0",
         "41.6009833636233",
         "1"
        ],
        [
         "5227",
         "DebtCon",
         "Other",
         "10400",
         "63505.0",
         "75811.0",
         "3.0",
         "0.0",
         "0.0",
         "182.092071698249",
         "2.0",
         "33.6907856407486",
         "1"
        ],
        [
         "642",
         "DebtCon",
         "Office",
         "11800",
         "21813.0",
         "30436.0",
         "5.0",
         "0.0",
         "1.0",
         "104.011635909528",
         "0.0",
         "19.4084612314116",
         "1"
        ],
        [
         "1554",
         "DebtCon",
         "Other",
         "11700",
         "68059.0",
         "86216.0",
         "3.0",
         null,
         null,
         "175.658567849882",
         null,
         "30.2539699219651",
         "1"
        ],
        [
         "4758",
         "DebtCon",
         "Mgr",
         "16800",
         "144756.0",
         "183810.0",
         "11.0",
         "0.0",
         "0.0",
         "243.542254944439",
         "0.0",
         "26.7339828350693",
         "1"
        ],
        [
         "3724",
         "HomeImp",
         "ProfExe",
         "20100",
         "104183.0",
         "139637.0",
         "10.0",
         "0.0",
         "0.0",
         "162.004180774186",
         "1.0",
         "34.6242028125581",
         "1"
        ],
        [
         "1803",
         "DebtCon",
         "Other",
         "9600",
         "45240.0",
         "60136.0",
         "2.0",
         "0.0",
         "1.0",
         "83.0667509051929",
         "0.0",
         "38.4543000216895",
         "1"
        ],
        [
         "4448",
         "DebtCon",
         "Other",
         "25000",
         "84000.0",
         "120000.0",
         "1.5",
         "0.0",
         "0.0",
         "188.768213058419",
         "2.0",
         null,
         "3"
        ],
        [
         "5451",
         "DebtCon",
         "Other",
         "36500",
         "114350.0",
         "164159.0",
         null,
         "0.0",
         "0.0",
         "245.523254946724",
         "3.0",
         "37.0713327967801",
         "1"
        ],
        [
         "5733",
         "DebtCon",
         "Mgr",
         "22400",
         "103000.0",
         "132500.0",
         "10.0",
         "2.0",
         "0.0",
         "187.733333333333",
         "5.0",
         null,
         "3"
        ],
        [
         "1921",
         "DebtCon",
         null,
         "11000",
         "106762.0",
         "123138.0",
         "2.0",
         "0.0",
         "0.0",
         "131.011915730639",
         "0.0",
         "32.8037433404726",
         "1"
        ],
        [
         "2210",
         "DebtCon",
         "ProfExe",
         "13100",
         "70878.0",
         "86743.0",
         "10.0",
         "0.0",
         "0.0",
         "174.881743849873",
         "0.0",
         "39.7844082571633",
         "1"
        ],
        [
         "2456",
         "DebtCon",
         "Office",
         "12900",
         "94000.0",
         null,
         "8.0",
         "0.0",
         "1.0",
         "205.933333333333",
         "0.0",
         null,
         "3"
        ],
        [
         "653",
         "HomeImp",
         "Office",
         "16700",
         "67238.0",
         "96535.0",
         "7.0",
         null,
         null,
         "103.472608185665",
         "0.0",
         "39.3496505183399",
         "1"
        ],
        [
         "429",
         "DebtCon",
         "Other",
         "24100",
         null,
         "49433.0",
         null,
         null,
         null,
         "83.0997261258049",
         null,
         "26.1489701810009",
         "1"
        ],
        [
         "4540",
         "DebtCon",
         "Other",
         "15300",
         "42100.0",
         "65000.0",
         "7.0",
         "0.0",
         "0.0",
         "95.3333333333333",
         "3.0",
         null,
         "3"
        ],
        [
         "1543",
         "DebtCon",
         "Mgr",
         "39500",
         "68117.0",
         "117084.0",
         "15.0",
         "0.0",
         "0.0",
         "198.099786895736",
         "0.0",
         "40.204874501035",
         "1"
        ],
        [
         "2486",
         "DebtCon",
         "Mgr",
         "22900",
         "161754.0",
         "193666.0",
         "2.0",
         "0.0",
         "0.0",
         "260.25108098924",
         "0.0",
         "30.2789293911722",
         "1"
        ],
        [
         "2812",
         "DebtCon",
         "ProfExe",
         "12900",
         "19688.0",
         "77998.0",
         "20.0",
         "0.0",
         "2.0",
         "407.261166880767",
         "0.0",
         "22.83907899328",
         "1"
        ],
        [
         "3336",
         "HomeImp",
         "Other",
         "14800",
         "49000.0",
         "98900.0",
         "0.1",
         "0.0",
         "3.0",
         "51.6666666666667",
         "1.0",
         null,
         "3"
        ],
        [
         "1480",
         "DebtCon",
         "ProfExe",
         "20300",
         "90048.0",
         "129230.0",
         "13.0",
         null,
         null,
         "134.942597281621",
         null,
         "30.2365540545464",
         "1"
        ],
        [
         "838",
         "DebtCon",
         "Other",
         "10000",
         "59929.0",
         null,
         "5.0",
         null,
         null,
         null,
         null,
         null,
         "3"
        ],
        [
         "1087",
         "DebtCon",
         "Other",
         "20000",
         "86019.0",
         "94350.0",
         "3.7",
         "0.0",
         "1.0",
         "119.7",
         "0.0",
         null,
         "3"
        ],
        [
         "1684",
         "DebtCon",
         "Office",
         "7000",
         "25000.0",
         "49840.0",
         "0.6",
         "0.0",
         "0.0",
         "139.0",
         "0.0",
         null,
         "3"
        ],
        [
         "5800",
         "DebtCon",
         "ProfExe",
         "11400",
         "59813.0",
         "72873.0",
         "13.0",
         "0.0",
         "0.0",
         "234.330240485327",
         "4.0",
         "39.3514708505438",
         "1"
        ],
        [
         "4025",
         "DebtCon",
         "Office",
         "19300",
         "27747.0",
         "43740.0",
         "7.0",
         "1.0",
         "0.0",
         "167.657980818612",
         "1.0",
         "35.0860705511766",
         "1"
        ],
        [
         "3393",
         "HomeImp",
         "ProfExe",
         "28300",
         "104686.0",
         "136033.0",
         "13.0",
         "0.0",
         "2.0",
         "291.171661394019",
         "1.0",
         "5.76299487170437",
         "1"
        ],
        [
         "4600",
         "HomeImp",
         "Mgr",
         "21000",
         "86545.0",
         "118000.0",
         "9.9",
         "0.0",
         "0.0",
         "121.766666666667",
         "2.0",
         null,
         "3"
        ],
        [
         "856",
         "DebtCon",
         "Office",
         "12800",
         "58592.0",
         "87002.0",
         "13.0",
         "0.0",
         "0.0",
         "139.530842762948",
         "0.0",
         "37.5310770873172",
         "1"
        ],
        [
         "3095",
         null,
         "Other",
         "22300",
         "72814.0",
         "186463.0",
         "10.0",
         "0.0",
         "0.0",
         "367.247358352534",
         "1.0",
         "30.3335879079549",
         "1"
        ],
        [
         "2304",
         "DebtCon",
         "Other",
         "16100",
         "41379.0",
         "57862.0",
         "17.0",
         "0.0",
         "0.0",
         "282.006289423402",
         "0.0",
         "30.7084874010871",
         "1"
        ],
        [
         "3499",
         "HomeImp",
         "Office",
         "20200",
         null,
         "68031.0",
         "6.0",
         "0.0",
         "0.0",
         "120.593465031404",
         "1.0",
         "18.3204879918091",
         "1"
        ],
        [
         "2571",
         "HomeImp",
         "Office",
         "13000",
         "16913.0",
         "48587.0",
         "23.0",
         "0.0",
         "0.0",
         "264.99215620118",
         "0.0",
         "30.6226355590497",
         "1"
        ],
        [
         "5459",
         "DebtCon",
         "ProfExe",
         "17100",
         "48471.0",
         "71546.0",
         "5.0",
         "0.0",
         "1.0",
         "254.095700700593",
         "3.0",
         "29.8187435390189",
         "1"
        ],
        [
         "1894",
         "DebtCon",
         "Mgr",
         "40400",
         "63131.0",
         "109395.0",
         "14.0",
         "0.0",
         "0.0",
         "198.448418720991",
         "0.0",
         "39.555936209958",
         "1"
        ],
        [
         "693",
         "HomeImp",
         "Other",
         "18600",
         "23850.0",
         "61808.0",
         "12.0",
         "0.0",
         "0.0",
         "46.9461640522311",
         "0.0",
         "40.8529275031075",
         "1"
        ],
        [
         "3109",
         "DebtCon",
         "Other",
         "15000",
         "71269.0",
         "97500.0",
         "9.0",
         "0.0",
         "0.0",
         "118.166666666667",
         "1.0",
         null,
         "3"
        ],
        [
         "3980",
         "DebtCon",
         "ProfExe",
         "33700",
         "147522.0",
         "198737.0",
         "20.0",
         "0.0",
         "0.0",
         "188.149356125208",
         "1.0",
         "37.3085362618363",
         "1"
        ],
        [
         "188",
         "DebtCon",
         "Mgr",
         "5800",
         "75000.0",
         "90543.0",
         "18.0",
         "0.0",
         "0.0",
         "300.487205799581",
         "1.0",
         "38.9405753556688",
         "1"
        ],
        [
         "287",
         "DebtCon",
         null,
         "5000",
         "51209.0",
         "55320.0",
         "5.0",
         null,
         "1.0",
         "69.1074655974897",
         null,
         "35.0250729684648",
         "1"
        ],
        [
         "3360",
         "DebtCon",
         "Other",
         "19000",
         "7524.0",
         "28639.0",
         null,
         "0.0",
         "0.0",
         "60.3282527450763",
         "1.0",
         "42.358461482459",
         "2"
        ],
        [
         "1729",
         "HomeImp",
         "Other",
         "24900",
         "62191.0",
         "83694.0",
         "3.0",
         "0.0",
         "0.0",
         "55.9375122945989",
         "0.0",
         "62.1107218705726",
         "2"
        ],
        [
         "2702",
         "DebtCon",
         "Mgr",
         "10500",
         "41467.0",
         "58329.0",
         "2.0",
         "0.0",
         "0.0",
         "187.71348615307",
         "0.0",
         "27.8611239197855",
         "1"
        ],
        [
         "3809",
         "DebtCon",
         null,
         "16700",
         "43794.0",
         "61446.0",
         "6.0",
         "0.0",
         "0.0",
         "96.4547059064908",
         "1.0",
         "28.4529808586105",
         "1"
        ],
        [
         "3622",
         "HomeImp",
         "Office",
         "9700",
         "59100.0",
         "74986.0",
         "14.0",
         "0.0",
         "0.0",
         "244.533333333333",
         "1.0",
         null,
         "3"
        ]
       ],
       "shape": {
        "columns": 12,
        "rows": 4768
       }
      },
      "text/html": [
       "<div>\n",
       "<style scoped>\n",
       "    .dataframe tbody tr th:only-of-type {\n",
       "        vertical-align: middle;\n",
       "    }\n",
       "\n",
       "    .dataframe tbody tr th {\n",
       "        vertical-align: top;\n",
       "    }\n",
       "\n",
       "    .dataframe thead th {\n",
       "        text-align: right;\n",
       "    }\n",
       "</style>\n",
       "<table border=\"1\" class=\"dataframe\">\n",
       "  <thead>\n",
       "    <tr style=\"text-align: right;\">\n",
       "      <th></th>\n",
       "      <th>REASON</th>\n",
       "      <th>JOB</th>\n",
       "      <th>LOAN</th>\n",
       "      <th>MORTDUE</th>\n",
       "      <th>VALUE</th>\n",
       "      <th>YOJ</th>\n",
       "      <th>DEROG</th>\n",
       "      <th>DELINQ</th>\n",
       "      <th>CLAGE</th>\n",
       "      <th>NINQ</th>\n",
       "      <th>DEBTINC</th>\n",
       "      <th>gDEBTINC</th>\n",
       "    </tr>\n",
       "  </thead>\n",
       "  <tbody>\n",
       "    <tr>\n",
       "      <th>944</th>\n",
       "      <td>HomeImp</td>\n",
       "      <td>Other</td>\n",
       "      <td>7400</td>\n",
       "      <td>2063.0</td>\n",
       "      <td>100448.0</td>\n",
       "      <td>NaN</td>\n",
       "      <td>0.0</td>\n",
       "      <td>0.0</td>\n",
       "      <td>96.133333</td>\n",
       "      <td>0.0</td>\n",
       "      <td>NaN</td>\n",
       "      <td>3</td>\n",
       "    </tr>\n",
       "    <tr>\n",
       "      <th>5755</th>\n",
       "      <td>HomeImp</td>\n",
       "      <td>ProfExe</td>\n",
       "      <td>14100</td>\n",
       "      <td>98856.0</td>\n",
       "      <td>143292.0</td>\n",
       "      <td>13.0</td>\n",
       "      <td>0.0</td>\n",
       "      <td>0.0</td>\n",
       "      <td>105.771726</td>\n",
       "      <td>4.0</td>\n",
       "      <td>37.458280</td>\n",
       "      <td>1</td>\n",
       "    </tr>\n",
       "    <tr>\n",
       "      <th>2259</th>\n",
       "      <td>HomeImp</td>\n",
       "      <td>Other</td>\n",
       "      <td>9600</td>\n",
       "      <td>77359.0</td>\n",
       "      <td>101365.0</td>\n",
       "      <td>1.0</td>\n",
       "      <td>0.0</td>\n",
       "      <td>0.0</td>\n",
       "      <td>182.803514</td>\n",
       "      <td>0.0</td>\n",
       "      <td>33.481910</td>\n",
       "      <td>1</td>\n",
       "    </tr>\n",
       "    <tr>\n",
       "      <th>12</th>\n",
       "      <td>DebtCon</td>\n",
       "      <td>Mgr</td>\n",
       "      <td>5000</td>\n",
       "      <td>72517.0</td>\n",
       "      <td>86250.0</td>\n",
       "      <td>19.0</td>\n",
       "      <td>0.0</td>\n",
       "      <td>1.0</td>\n",
       "      <td>300.366667</td>\n",
       "      <td>1.0</td>\n",
       "      <td>NaN</td>\n",
       "      <td>3</td>\n",
       "    </tr>\n",
       "    <tr>\n",
       "      <th>1117</th>\n",
       "      <td>DebtCon</td>\n",
       "      <td>Mgr</td>\n",
       "      <td>13500</td>\n",
       "      <td>40023.0</td>\n",
       "      <td>67357.0</td>\n",
       "      <td>NaN</td>\n",
       "      <td>NaN</td>\n",
       "      <td>NaN</td>\n",
       "      <td>NaN</td>\n",
       "      <td>NaN</td>\n",
       "      <td>38.319426</td>\n",
       "      <td>1</td>\n",
       "    </tr>\n",
       "    <tr>\n",
       "      <th>...</th>\n",
       "      <td>...</td>\n",
       "      <td>...</td>\n",
       "      <td>...</td>\n",
       "      <td>...</td>\n",
       "      <td>...</td>\n",
       "      <td>...</td>\n",
       "      <td>...</td>\n",
       "      <td>...</td>\n",
       "      <td>...</td>\n",
       "      <td>...</td>\n",
       "      <td>...</td>\n",
       "      <td>...</td>\n",
       "    </tr>\n",
       "    <tr>\n",
       "      <th>3772</th>\n",
       "      <td>DebtCon</td>\n",
       "      <td>Other</td>\n",
       "      <td>15800</td>\n",
       "      <td>71820.0</td>\n",
       "      <td>89739.0</td>\n",
       "      <td>0.0</td>\n",
       "      <td>1.0</td>\n",
       "      <td>1.0</td>\n",
       "      <td>122.955587</td>\n",
       "      <td>1.0</td>\n",
       "      <td>33.519070</td>\n",
       "      <td>1</td>\n",
       "    </tr>\n",
       "    <tr>\n",
       "      <th>5191</th>\n",
       "      <td>DebtCon</td>\n",
       "      <td>ProfExe</td>\n",
       "      <td>13500</td>\n",
       "      <td>80223.0</td>\n",
       "      <td>108491.0</td>\n",
       "      <td>4.0</td>\n",
       "      <td>0.0</td>\n",
       "      <td>4.0</td>\n",
       "      <td>127.800000</td>\n",
       "      <td>2.0</td>\n",
       "      <td>NaN</td>\n",
       "      <td>3</td>\n",
       "    </tr>\n",
       "    <tr>\n",
       "      <th>5226</th>\n",
       "      <td>DebtCon</td>\n",
       "      <td>Other</td>\n",
       "      <td>25000</td>\n",
       "      <td>188545.0</td>\n",
       "      <td>241279.0</td>\n",
       "      <td>9.0</td>\n",
       "      <td>0.0</td>\n",
       "      <td>0.0</td>\n",
       "      <td>102.500000</td>\n",
       "      <td>2.0</td>\n",
       "      <td>NaN</td>\n",
       "      <td>3</td>\n",
       "    </tr>\n",
       "    <tr>\n",
       "      <th>5390</th>\n",
       "      <td>DebtCon</td>\n",
       "      <td>Other</td>\n",
       "      <td>15900</td>\n",
       "      <td>69548.0</td>\n",
       "      <td>89775.0</td>\n",
       "      <td>1.0</td>\n",
       "      <td>0.0</td>\n",
       "      <td>0.0</td>\n",
       "      <td>230.673080</td>\n",
       "      <td>2.0</td>\n",
       "      <td>30.108317</td>\n",
       "      <td>1</td>\n",
       "    </tr>\n",
       "    <tr>\n",
       "      <th>860</th>\n",
       "      <td>HomeImp</td>\n",
       "      <td>ProfExe</td>\n",
       "      <td>11600</td>\n",
       "      <td>73079.0</td>\n",
       "      <td>101219.0</td>\n",
       "      <td>7.0</td>\n",
       "      <td>0.0</td>\n",
       "      <td>0.0</td>\n",
       "      <td>152.249875</td>\n",
       "      <td>0.0</td>\n",
       "      <td>34.249621</td>\n",
       "      <td>1</td>\n",
       "    </tr>\n",
       "  </tbody>\n",
       "</table>\n",
       "<p>4768 rows × 12 columns</p>\n",
       "</div>"
      ],
      "text/plain": [
       "       REASON      JOB   LOAN   MORTDUE     VALUE   YOJ  DEROG  DELINQ  \\\n",
       "944   HomeImp    Other   7400    2063.0  100448.0   NaN    0.0     0.0   \n",
       "5755  HomeImp  ProfExe  14100   98856.0  143292.0  13.0    0.0     0.0   \n",
       "2259  HomeImp    Other   9600   77359.0  101365.0   1.0    0.0     0.0   \n",
       "12    DebtCon      Mgr   5000   72517.0   86250.0  19.0    0.0     1.0   \n",
       "1117  DebtCon      Mgr  13500   40023.0   67357.0   NaN    NaN     NaN   \n",
       "...       ...      ...    ...       ...       ...   ...    ...     ...   \n",
       "3772  DebtCon    Other  15800   71820.0   89739.0   0.0    1.0     1.0   \n",
       "5191  DebtCon  ProfExe  13500   80223.0  108491.0   4.0    0.0     4.0   \n",
       "5226  DebtCon    Other  25000  188545.0  241279.0   9.0    0.0     0.0   \n",
       "5390  DebtCon    Other  15900   69548.0   89775.0   1.0    0.0     0.0   \n",
       "860   HomeImp  ProfExe  11600   73079.0  101219.0   7.0    0.0     0.0   \n",
       "\n",
       "           CLAGE  NINQ    DEBTINC  gDEBTINC  \n",
       "944    96.133333   0.0        NaN         3  \n",
       "5755  105.771726   4.0  37.458280         1  \n",
       "2259  182.803514   0.0  33.481910         1  \n",
       "12    300.366667   1.0        NaN         3  \n",
       "1117         NaN   NaN  38.319426         1  \n",
       "...          ...   ...        ...       ...  \n",
       "3772  122.955587   1.0  33.519070         1  \n",
       "5191  127.800000   2.0        NaN         3  \n",
       "5226  102.500000   2.0        NaN         3  \n",
       "5390  230.673080   2.0  30.108317         1  \n",
       "860   152.249875   0.0  34.249621         1  \n",
       "\n",
       "[4768 rows x 12 columns]"
      ]
     },
     "execution_count": 55,
     "metadata": {},
     "output_type": "execute_result"
    }
   ],
   "source": [
    "x_train "
   ]
  },
  {
   "cell_type": "markdown",
   "metadata": {},
   "source": [
    "## 2. Sử dụng Woe và IV để lọc ra các biến quan trọng"
   ]
  },
  {
   "cell_type": "code",
   "execution_count": 56,
   "metadata": {},
   "outputs": [
    {
     "data": {
      "text/html": [
       "<style>#sk-container-id-2 {\n",
       "  /* Definition of color scheme common for light and dark mode */\n",
       "  --sklearn-color-text: black;\n",
       "  --sklearn-color-line: gray;\n",
       "  /* Definition of color scheme for unfitted estimators */\n",
       "  --sklearn-color-unfitted-level-0: #fff5e6;\n",
       "  --sklearn-color-unfitted-level-1: #f6e4d2;\n",
       "  --sklearn-color-unfitted-level-2: #ffe0b3;\n",
       "  --sklearn-color-unfitted-level-3: chocolate;\n",
       "  /* Definition of color scheme for fitted estimators */\n",
       "  --sklearn-color-fitted-level-0: #f0f8ff;\n",
       "  --sklearn-color-fitted-level-1: #d4ebff;\n",
       "  --sklearn-color-fitted-level-2: #b3dbfd;\n",
       "  --sklearn-color-fitted-level-3: cornflowerblue;\n",
       "\n",
       "  /* Specific color for light theme */\n",
       "  --sklearn-color-text-on-default-background: var(--sg-text-color, var(--theme-code-foreground, var(--jp-content-font-color1, black)));\n",
       "  --sklearn-color-background: var(--sg-background-color, var(--theme-background, var(--jp-layout-color0, white)));\n",
       "  --sklearn-color-border-box: var(--sg-text-color, var(--theme-code-foreground, var(--jp-content-font-color1, black)));\n",
       "  --sklearn-color-icon: #696969;\n",
       "\n",
       "  @media (prefers-color-scheme: dark) {\n",
       "    /* Redefinition of color scheme for dark theme */\n",
       "    --sklearn-color-text-on-default-background: var(--sg-text-color, var(--theme-code-foreground, var(--jp-content-font-color1, white)));\n",
       "    --sklearn-color-background: var(--sg-background-color, var(--theme-background, var(--jp-layout-color0, #111)));\n",
       "    --sklearn-color-border-box: var(--sg-text-color, var(--theme-code-foreground, var(--jp-content-font-color1, white)));\n",
       "    --sklearn-color-icon: #878787;\n",
       "  }\n",
       "}\n",
       "\n",
       "#sk-container-id-2 {\n",
       "  color: var(--sklearn-color-text);\n",
       "}\n",
       "\n",
       "#sk-container-id-2 pre {\n",
       "  padding: 0;\n",
       "}\n",
       "\n",
       "#sk-container-id-2 input.sk-hidden--visually {\n",
       "  border: 0;\n",
       "  clip: rect(1px 1px 1px 1px);\n",
       "  clip: rect(1px, 1px, 1px, 1px);\n",
       "  height: 1px;\n",
       "  margin: -1px;\n",
       "  overflow: hidden;\n",
       "  padding: 0;\n",
       "  position: absolute;\n",
       "  width: 1px;\n",
       "}\n",
       "\n",
       "#sk-container-id-2 div.sk-dashed-wrapped {\n",
       "  border: 1px dashed var(--sklearn-color-line);\n",
       "  margin: 0 0.4em 0.5em 0.4em;\n",
       "  box-sizing: border-box;\n",
       "  padding-bottom: 0.4em;\n",
       "  background-color: var(--sklearn-color-background);\n",
       "}\n",
       "\n",
       "#sk-container-id-2 div.sk-container {\n",
       "  /* jupyter's `normalize.less` sets `[hidden] { display: none; }`\n",
       "     but bootstrap.min.css set `[hidden] { display: none !important; }`\n",
       "     so we also need the `!important` here to be able to override the\n",
       "     default hidden behavior on the sphinx rendered scikit-learn.org.\n",
       "     See: https://github.com/scikit-learn/scikit-learn/issues/21755 */\n",
       "  display: inline-block !important;\n",
       "  position: relative;\n",
       "}\n",
       "\n",
       "#sk-container-id-2 div.sk-text-repr-fallback {\n",
       "  display: none;\n",
       "}\n",
       "\n",
       "div.sk-parallel-item,\n",
       "div.sk-serial,\n",
       "div.sk-item {\n",
       "  /* draw centered vertical line to link estimators */\n",
       "  background-image: linear-gradient(var(--sklearn-color-text-on-default-background), var(--sklearn-color-text-on-default-background));\n",
       "  background-size: 2px 100%;\n",
       "  background-repeat: no-repeat;\n",
       "  background-position: center center;\n",
       "}\n",
       "\n",
       "/* Parallel-specific style estimator block */\n",
       "\n",
       "#sk-container-id-2 div.sk-parallel-item::after {\n",
       "  content: \"\";\n",
       "  width: 100%;\n",
       "  border-bottom: 2px solid var(--sklearn-color-text-on-default-background);\n",
       "  flex-grow: 1;\n",
       "}\n",
       "\n",
       "#sk-container-id-2 div.sk-parallel {\n",
       "  display: flex;\n",
       "  align-items: stretch;\n",
       "  justify-content: center;\n",
       "  background-color: var(--sklearn-color-background);\n",
       "  position: relative;\n",
       "}\n",
       "\n",
       "#sk-container-id-2 div.sk-parallel-item {\n",
       "  display: flex;\n",
       "  flex-direction: column;\n",
       "}\n",
       "\n",
       "#sk-container-id-2 div.sk-parallel-item:first-child::after {\n",
       "  align-self: flex-end;\n",
       "  width: 50%;\n",
       "}\n",
       "\n",
       "#sk-container-id-2 div.sk-parallel-item:last-child::after {\n",
       "  align-self: flex-start;\n",
       "  width: 50%;\n",
       "}\n",
       "\n",
       "#sk-container-id-2 div.sk-parallel-item:only-child::after {\n",
       "  width: 0;\n",
       "}\n",
       "\n",
       "/* Serial-specific style estimator block */\n",
       "\n",
       "#sk-container-id-2 div.sk-serial {\n",
       "  display: flex;\n",
       "  flex-direction: column;\n",
       "  align-items: center;\n",
       "  background-color: var(--sklearn-color-background);\n",
       "  padding-right: 1em;\n",
       "  padding-left: 1em;\n",
       "}\n",
       "\n",
       "\n",
       "/* Toggleable style: style used for estimator/Pipeline/ColumnTransformer box that is\n",
       "clickable and can be expanded/collapsed.\n",
       "- Pipeline and ColumnTransformer use this feature and define the default style\n",
       "- Estimators will overwrite some part of the style using the `sk-estimator` class\n",
       "*/\n",
       "\n",
       "/* Pipeline and ColumnTransformer style (default) */\n",
       "\n",
       "#sk-container-id-2 div.sk-toggleable {\n",
       "  /* Default theme specific background. It is overwritten whether we have a\n",
       "  specific estimator or a Pipeline/ColumnTransformer */\n",
       "  background-color: var(--sklearn-color-background);\n",
       "}\n",
       "\n",
       "/* Toggleable label */\n",
       "#sk-container-id-2 label.sk-toggleable__label {\n",
       "  cursor: pointer;\n",
       "  display: block;\n",
       "  width: 100%;\n",
       "  margin-bottom: 0;\n",
       "  padding: 0.5em;\n",
       "  box-sizing: border-box;\n",
       "  text-align: center;\n",
       "}\n",
       "\n",
       "#sk-container-id-2 label.sk-toggleable__label-arrow:before {\n",
       "  /* Arrow on the left of the label */\n",
       "  content: \"▸\";\n",
       "  float: left;\n",
       "  margin-right: 0.25em;\n",
       "  color: var(--sklearn-color-icon);\n",
       "}\n",
       "\n",
       "#sk-container-id-2 label.sk-toggleable__label-arrow:hover:before {\n",
       "  color: var(--sklearn-color-text);\n",
       "}\n",
       "\n",
       "/* Toggleable content - dropdown */\n",
       "\n",
       "#sk-container-id-2 div.sk-toggleable__content {\n",
       "  max-height: 0;\n",
       "  max-width: 0;\n",
       "  overflow: hidden;\n",
       "  text-align: left;\n",
       "  /* unfitted */\n",
       "  background-color: var(--sklearn-color-unfitted-level-0);\n",
       "}\n",
       "\n",
       "#sk-container-id-2 div.sk-toggleable__content.fitted {\n",
       "  /* fitted */\n",
       "  background-color: var(--sklearn-color-fitted-level-0);\n",
       "}\n",
       "\n",
       "#sk-container-id-2 div.sk-toggleable__content pre {\n",
       "  margin: 0.2em;\n",
       "  border-radius: 0.25em;\n",
       "  color: var(--sklearn-color-text);\n",
       "  /* unfitted */\n",
       "  background-color: var(--sklearn-color-unfitted-level-0);\n",
       "}\n",
       "\n",
       "#sk-container-id-2 div.sk-toggleable__content.fitted pre {\n",
       "  /* unfitted */\n",
       "  background-color: var(--sklearn-color-fitted-level-0);\n",
       "}\n",
       "\n",
       "#sk-container-id-2 input.sk-toggleable__control:checked~div.sk-toggleable__content {\n",
       "  /* Expand drop-down */\n",
       "  max-height: 200px;\n",
       "  max-width: 100%;\n",
       "  overflow: auto;\n",
       "}\n",
       "\n",
       "#sk-container-id-2 input.sk-toggleable__control:checked~label.sk-toggleable__label-arrow:before {\n",
       "  content: \"▾\";\n",
       "}\n",
       "\n",
       "/* Pipeline/ColumnTransformer-specific style */\n",
       "\n",
       "#sk-container-id-2 div.sk-label input.sk-toggleable__control:checked~label.sk-toggleable__label {\n",
       "  color: var(--sklearn-color-text);\n",
       "  background-color: var(--sklearn-color-unfitted-level-2);\n",
       "}\n",
       "\n",
       "#sk-container-id-2 div.sk-label.fitted input.sk-toggleable__control:checked~label.sk-toggleable__label {\n",
       "  background-color: var(--sklearn-color-fitted-level-2);\n",
       "}\n",
       "\n",
       "/* Estimator-specific style */\n",
       "\n",
       "/* Colorize estimator box */\n",
       "#sk-container-id-2 div.sk-estimator input.sk-toggleable__control:checked~label.sk-toggleable__label {\n",
       "  /* unfitted */\n",
       "  background-color: var(--sklearn-color-unfitted-level-2);\n",
       "}\n",
       "\n",
       "#sk-container-id-2 div.sk-estimator.fitted input.sk-toggleable__control:checked~label.sk-toggleable__label {\n",
       "  /* fitted */\n",
       "  background-color: var(--sklearn-color-fitted-level-2);\n",
       "}\n",
       "\n",
       "#sk-container-id-2 div.sk-label label.sk-toggleable__label,\n",
       "#sk-container-id-2 div.sk-label label {\n",
       "  /* The background is the default theme color */\n",
       "  color: var(--sklearn-color-text-on-default-background);\n",
       "}\n",
       "\n",
       "/* On hover, darken the color of the background */\n",
       "#sk-container-id-2 div.sk-label:hover label.sk-toggleable__label {\n",
       "  color: var(--sklearn-color-text);\n",
       "  background-color: var(--sklearn-color-unfitted-level-2);\n",
       "}\n",
       "\n",
       "/* Label box, darken color on hover, fitted */\n",
       "#sk-container-id-2 div.sk-label.fitted:hover label.sk-toggleable__label.fitted {\n",
       "  color: var(--sklearn-color-text);\n",
       "  background-color: var(--sklearn-color-fitted-level-2);\n",
       "}\n",
       "\n",
       "/* Estimator label */\n",
       "\n",
       "#sk-container-id-2 div.sk-label label {\n",
       "  font-family: monospace;\n",
       "  font-weight: bold;\n",
       "  display: inline-block;\n",
       "  line-height: 1.2em;\n",
       "}\n",
       "\n",
       "#sk-container-id-2 div.sk-label-container {\n",
       "  text-align: center;\n",
       "}\n",
       "\n",
       "/* Estimator-specific */\n",
       "#sk-container-id-2 div.sk-estimator {\n",
       "  font-family: monospace;\n",
       "  border: 1px dotted var(--sklearn-color-border-box);\n",
       "  border-radius: 0.25em;\n",
       "  box-sizing: border-box;\n",
       "  margin-bottom: 0.5em;\n",
       "  /* unfitted */\n",
       "  background-color: var(--sklearn-color-unfitted-level-0);\n",
       "}\n",
       "\n",
       "#sk-container-id-2 div.sk-estimator.fitted {\n",
       "  /* fitted */\n",
       "  background-color: var(--sklearn-color-fitted-level-0);\n",
       "}\n",
       "\n",
       "/* on hover */\n",
       "#sk-container-id-2 div.sk-estimator:hover {\n",
       "  /* unfitted */\n",
       "  background-color: var(--sklearn-color-unfitted-level-2);\n",
       "}\n",
       "\n",
       "#sk-container-id-2 div.sk-estimator.fitted:hover {\n",
       "  /* fitted */\n",
       "  background-color: var(--sklearn-color-fitted-level-2);\n",
       "}\n",
       "\n",
       "/* Specification for estimator info (e.g. \"i\" and \"?\") */\n",
       "\n",
       "/* Common style for \"i\" and \"?\" */\n",
       "\n",
       ".sk-estimator-doc-link,\n",
       "a:link.sk-estimator-doc-link,\n",
       "a:visited.sk-estimator-doc-link {\n",
       "  float: right;\n",
       "  font-size: smaller;\n",
       "  line-height: 1em;\n",
       "  font-family: monospace;\n",
       "  background-color: var(--sklearn-color-background);\n",
       "  border-radius: 1em;\n",
       "  height: 1em;\n",
       "  width: 1em;\n",
       "  text-decoration: none !important;\n",
       "  margin-left: 1ex;\n",
       "  /* unfitted */\n",
       "  border: var(--sklearn-color-unfitted-level-1) 1pt solid;\n",
       "  color: var(--sklearn-color-unfitted-level-1);\n",
       "}\n",
       "\n",
       ".sk-estimator-doc-link.fitted,\n",
       "a:link.sk-estimator-doc-link.fitted,\n",
       "a:visited.sk-estimator-doc-link.fitted {\n",
       "  /* fitted */\n",
       "  border: var(--sklearn-color-fitted-level-1) 1pt solid;\n",
       "  color: var(--sklearn-color-fitted-level-1);\n",
       "}\n",
       "\n",
       "/* On hover */\n",
       "div.sk-estimator:hover .sk-estimator-doc-link:hover,\n",
       ".sk-estimator-doc-link:hover,\n",
       "div.sk-label-container:hover .sk-estimator-doc-link:hover,\n",
       ".sk-estimator-doc-link:hover {\n",
       "  /* unfitted */\n",
       "  background-color: var(--sklearn-color-unfitted-level-3);\n",
       "  color: var(--sklearn-color-background);\n",
       "  text-decoration: none;\n",
       "}\n",
       "\n",
       "div.sk-estimator.fitted:hover .sk-estimator-doc-link.fitted:hover,\n",
       ".sk-estimator-doc-link.fitted:hover,\n",
       "div.sk-label-container:hover .sk-estimator-doc-link.fitted:hover,\n",
       ".sk-estimator-doc-link.fitted:hover {\n",
       "  /* fitted */\n",
       "  background-color: var(--sklearn-color-fitted-level-3);\n",
       "  color: var(--sklearn-color-background);\n",
       "  text-decoration: none;\n",
       "}\n",
       "\n",
       "/* Span, style for the box shown on hovering the info icon */\n",
       ".sk-estimator-doc-link span {\n",
       "  display: none;\n",
       "  z-index: 9999;\n",
       "  position: relative;\n",
       "  font-weight: normal;\n",
       "  right: .2ex;\n",
       "  padding: .5ex;\n",
       "  margin: .5ex;\n",
       "  width: min-content;\n",
       "  min-width: 20ex;\n",
       "  max-width: 50ex;\n",
       "  color: var(--sklearn-color-text);\n",
       "  box-shadow: 2pt 2pt 4pt #999;\n",
       "  /* unfitted */\n",
       "  background: var(--sklearn-color-unfitted-level-0);\n",
       "  border: .5pt solid var(--sklearn-color-unfitted-level-3);\n",
       "}\n",
       "\n",
       ".sk-estimator-doc-link.fitted span {\n",
       "  /* fitted */\n",
       "  background: var(--sklearn-color-fitted-level-0);\n",
       "  border: var(--sklearn-color-fitted-level-3);\n",
       "}\n",
       "\n",
       ".sk-estimator-doc-link:hover span {\n",
       "  display: block;\n",
       "}\n",
       "\n",
       "/* \"?\"-specific style due to the `<a>` HTML tag */\n",
       "\n",
       "#sk-container-id-2 a.estimator_doc_link {\n",
       "  float: right;\n",
       "  font-size: 1rem;\n",
       "  line-height: 1em;\n",
       "  font-family: monospace;\n",
       "  background-color: var(--sklearn-color-background);\n",
       "  border-radius: 1rem;\n",
       "  height: 1rem;\n",
       "  width: 1rem;\n",
       "  text-decoration: none;\n",
       "  /* unfitted */\n",
       "  color: var(--sklearn-color-unfitted-level-1);\n",
       "  border: var(--sklearn-color-unfitted-level-1) 1pt solid;\n",
       "}\n",
       "\n",
       "#sk-container-id-2 a.estimator_doc_link.fitted {\n",
       "  /* fitted */\n",
       "  border: var(--sklearn-color-fitted-level-1) 1pt solid;\n",
       "  color: var(--sklearn-color-fitted-level-1);\n",
       "}\n",
       "\n",
       "/* On hover */\n",
       "#sk-container-id-2 a.estimator_doc_link:hover {\n",
       "  /* unfitted */\n",
       "  background-color: var(--sklearn-color-unfitted-level-3);\n",
       "  color: var(--sklearn-color-background);\n",
       "  text-decoration: none;\n",
       "}\n",
       "\n",
       "#sk-container-id-2 a.estimator_doc_link.fitted:hover {\n",
       "  /* fitted */\n",
       "  background-color: var(--sklearn-color-fitted-level-3);\n",
       "}\n",
       "</style><div id=\"sk-container-id-2\" class=\"sk-top-container\"><div class=\"sk-text-repr-fallback\"><pre>BinningProcess(categorical_variables=[&#x27;REASON&#x27;, &#x27;JOB&#x27;],\n",
       "               variable_names=[&#x27;REASON&#x27;, &#x27;JOB&#x27;, &#x27;LOAN&#x27;, &#x27;MORTDUE&#x27;, &#x27;VALUE&#x27;,\n",
       "                               &#x27;YOJ&#x27;, &#x27;DEROG&#x27;, &#x27;DELINQ&#x27;, &#x27;CLAGE&#x27;, &#x27;NINQ&#x27;,\n",
       "                               &#x27;DEBTINC&#x27;, &#x27;gDEBTINC&#x27;])</pre><b>In a Jupyter environment, please rerun this cell to show the HTML representation or trust the notebook. <br />On GitHub, the HTML representation is unable to render, please try loading this page with nbviewer.org.</b></div><div class=\"sk-container\" hidden><div class=\"sk-item\"><div class=\"sk-estimator  sk-toggleable\"><input class=\"sk-toggleable__control sk-hidden--visually\" id=\"sk-estimator-id-2\" type=\"checkbox\" checked><label for=\"sk-estimator-id-2\" class=\"sk-toggleable__label  sk-toggleable__label-arrow \">&nbsp;BinningProcess<span class=\"sk-estimator-doc-link \">i<span>Not fitted</span></span></label><div class=\"sk-toggleable__content \"><pre>BinningProcess(categorical_variables=[&#x27;REASON&#x27;, &#x27;JOB&#x27;],\n",
       "               variable_names=[&#x27;REASON&#x27;, &#x27;JOB&#x27;, &#x27;LOAN&#x27;, &#x27;MORTDUE&#x27;, &#x27;VALUE&#x27;,\n",
       "                               &#x27;YOJ&#x27;, &#x27;DEROG&#x27;, &#x27;DELINQ&#x27;, &#x27;CLAGE&#x27;, &#x27;NINQ&#x27;,\n",
       "                               &#x27;DEBTINC&#x27;, &#x27;gDEBTINC&#x27;])</pre></div> </div></div></div></div>"
      ],
      "text/plain": [
       "BinningProcess(categorical_variables=['REASON', 'JOB'],\n",
       "               variable_names=['REASON', 'JOB', 'LOAN', 'MORTDUE', 'VALUE',\n",
       "                               'YOJ', 'DEROG', 'DELINQ', 'CLAGE', 'NINQ',\n",
       "                               'DEBTINC', 'gDEBTINC'])"
      ]
     },
     "execution_count": 56,
     "metadata": {},
     "output_type": "execute_result"
    }
   ],
   "source": [
    "import pandas as pd\n",
    "from optbinning import BinningProcess\n",
    "import matplotlib.pyplot as plt\n",
    "\n",
    "# Khởi tạo quá trình binning cho tất cả biến\n",
    "binning_process = BinningProcess(\n",
    "    variable_names=x_train.columns.tolist(),\n",
    "    categorical_variables=x_train.select_dtypes(include=\"object\").columns.tolist()\n",
    ")\n",
    "\n",
    "# Huấn luyện binning process để tính WOE, IV\n",
    "binning_process.fit(x_train, y_train)\n",
    "\n"
   ]
  },
  {
   "cell_type": "code",
   "execution_count": 57,
   "metadata": {},
   "outputs": [],
   "source": [
    "# Lấy IV cho tất cả biến\n",
    "iv_dict = {}\n",
    "\n",
    "for var in x_train.columns:\n",
    "    optb = binning_process.get_binned_variable(var)\n",
    "    if optb is not None:\n",
    "        bin_table = optb.binning_table\n",
    "        bin_table.build()  # phải gọi build trước\n",
    "        iv_dict[var] = bin_table.iv"
   ]
  },
  {
   "cell_type": "code",
   "execution_count": 58,
   "metadata": {},
   "outputs": [
    {
     "name": "stdout",
     "output_type": "stream",
     "text": [
      "Thông tin IV của các biến:\n",
      "DEBTINC     2.039605\n",
      "gDEBTINC    1.912674\n",
      "DELINQ      0.534097\n",
      "VALUE       0.516047\n",
      "DEROG       0.335648\n",
      "CLAGE       0.249556\n",
      "LOAN        0.211473\n",
      "NINQ        0.153149\n",
      "JOB         0.146214\n",
      "YOJ         0.069360\n",
      "MORTDUE     0.054816\n",
      "REASON      0.004552\n",
      "dtype: float64\n"
     ]
    }
   ],
   "source": [
    "# Chuyển sang Series và sắp xếp\n",
    "iv_series = pd.Series(iv_dict).sort_values(ascending=False)\n",
    "\n",
    "# In bảng IV\n",
    "print(\"Thông tin IV của các biến:\")\n",
    "print(iv_series)\n"
   ]
  },
  {
   "cell_type": "code",
   "execution_count": 59,
   "metadata": {},
   "outputs": [
    {
     "data": {
      "image/png": "[encoded data removed]",
      "text/plain": [
       "<Figure size 640x480 with 1 Axes>"
      ]
     },
     "metadata": {},
     "output_type": "display_data"
    },
    {
     "name": "stdout",
     "output_type": "stream",
     "text": [
      "\n",
      "Các biến được chọn (IV >= 0.02):\n",
      "['DEBTINC', 'gDEBTINC', 'DELINQ', 'VALUE', 'DEROG', 'CLAGE', 'LOAN', 'NINQ', 'JOB', 'YOJ', 'MORTDUE']\n"
     ]
    }
   ],
   "source": [
    "# Vẽ biểu đồ IV\n",
    "iv_series.plot(kind=\"bar\", title=\"Information Value của các biến\")\n",
    "plt.ylabel(\"Information Value (IV)\")\n",
    "plt.show()\n",
    "\n",
    "# Chọn các biến có IV >= 0.02 (tùy ngưỡng)\n",
    "important_features = iv_series[iv_series >= 0.02].index.tolist()\n",
    "\n",
    "print(\"\\nCác biến được chọn (IV >= 0.02):\")\n",
    "print(important_features)"
   ]
  },
  {
   "cell_type": "markdown",
   "metadata": {},
   "source": [
    "### Xóa bỏ biến REASON vì IV < 0.02\n"
   ]
  },
  {
   "cell_type": "code",
   "execution_count": 60,
   "metadata": {},
   "outputs": [
    {
     "data": {
      "application/vnd.microsoft.datawrangler.viewer.v0+json": {
       "columns": [
        {
         "name": "index",
         "rawType": "int64",
         "type": "integer"
        },
        {
         "name": "JOB",
         "rawType": "object",
         "type": "unknown"
        },
        {
         "name": "LOAN",
         "rawType": "int64",
         "type": "integer"
        },
        {
         "name": "MORTDUE",
         "rawType": "float64",
         "type": "float"
        },
        {
         "name": "VALUE",
         "rawType": "float64",
         "type": "float"
        },
        {
         "name": "YOJ",
         "rawType": "float64",
         "type": "float"
        },
        {
         "name": "DEROG",
         "rawType": "float64",
         "type": "float"
        },
        {
         "name": "DELINQ",
         "rawType": "float64",
         "type": "float"
        },
        {
         "name": "CLAGE",
         "rawType": "float64",
         "type": "float"
        },
        {
         "name": "NINQ",
         "rawType": "float64",
         "type": "float"
        },
        {
         "name": "DEBTINC",
         "rawType": "float64",
         "type": "float"
        },
        {
         "name": "gDEBTINC",
         "rawType": "int64",
         "type": "integer"
        }
       ],
       "conversionMethod": "pd.DataFrame",
       "ref": "36dfb14e-bc1a-4adf-82ef-bb896aec160a",
       "rows": [
        [
         "1344",
         "ProfExe",
         "17100",
         "100082.0",
         "119585.0",
         "1.0",
         "0.0",
         "0.0",
         "147.915809112087",
         "0.0",
         "34.7342771611755",
         "1"
        ],
        [
         "625",
         null,
         "15000",
         null,
         "74750.0",
         null,
         null,
         null,
         null,
         null,
         null,
         "3"
        ],
        [
         "5908",
         "ProfExe",
         "14900",
         "97646.0",
         "139884.0",
         "13.0",
         "0.0",
         "0.0",
         "119.083116388933",
         "5.0",
         "36.3605970728307",
         "1"
        ],
        [
         "2991",
         "Mgr",
         "8500",
         "53459.0",
         "62678.0",
         "13.0",
         "0.0",
         "0.0",
         "116.863449085486",
         "0.0",
         "30.0529020797242",
         "1"
        ],
        [
         "1545",
         "ProfExe",
         "17800",
         "58942.0",
         "91483.0",
         "5.0",
         "0.0",
         "0.0",
         "123.736674349758",
         "0.0",
         "28.1559599913358",
         "1"
        ],
        [
         "1860",
         "ProfExe",
         "25500",
         "143881.0",
         "178914.0",
         "7.0",
         "0.0",
         "0.0",
         "323.022571802942",
         "0.0",
         "37.5758219746481",
         "1"
        ],
        [
         "4129",
         "Other",
         "12500",
         null,
         "39200.0",
         "0.0",
         "0.0",
         "0.0",
         "309.4",
         "1.0",
         null,
         "3"
        ],
        [
         "1643",
         "ProfExe",
         "8100",
         "26886.0",
         "36527.0",
         "12.0",
         "0.0",
         "0.0",
         "188.419826413984",
         "0.0",
         "24.8655671849221",
         "1"
        ],
        [
         "1374",
         "Mgr",
         "15700",
         "16804.0",
         "34294.0",
         "9.0",
         "0.0",
         "0.0",
         "131.773423227349",
         "0.0",
         "23.9797027726656",
         "1"
        ],
        [
         "5919",
         "ProfExe",
         "17000",
         "56800.0",
         "82000.0",
         "22.0",
         "0.0",
         "5.0",
         "320.6",
         "4.0",
         null,
         "3"
        ],
        [
         "4319",
         "ProfExe",
         "28400",
         "183314.0",
         "232345.0",
         "1.0",
         "0.0",
         "0.0",
         "300.904310063723",
         "1.0",
         "42.3362268959946",
         "2"
        ],
        [
         "506",
         "Mgr",
         "10300",
         null,
         "50548.0",
         "5.0",
         null,
         null,
         "165.553199238138",
         null,
         "23.8863308130094",
         "1"
        ],
        [
         "408",
         null,
         "20100",
         "54098.0",
         "88939.0",
         null,
         null,
         null,
         null,
         null,
         null,
         "3"
        ],
        [
         "319",
         "Mgr",
         "4800",
         "67317.0",
         "97191.0",
         "3.0",
         "0.0",
         "0.0",
         "137.319724808842",
         "0.0",
         "34.2752937772243",
         "1"
        ],
        [
         "3979",
         "Other",
         "17200",
         "53849.0",
         "102326.0",
         "1.0",
         "0.0",
         "3.0",
         "57.1667451237785",
         "1.0",
         "39.9911542435927",
         "1"
        ],
        [
         "1966",
         "ProfExe",
         "21600",
         "108923.0",
         "142716.0",
         "9.0",
         "0.0",
         "0.0",
         "162.446914005578",
         "0.0",
         "33.4197787399403",
         "1"
        ],
        [
         "1609",
         "Mgr",
         "21300",
         "107012.0",
         "159949.0",
         "15.0",
         "0.0",
         "0.0",
         "166.082982765537",
         "0.0",
         "33.3553826678476",
         "1"
        ],
        [
         "696",
         "Other",
         "10900",
         "51990.0",
         "76918.0",
         "0.0",
         "0.0",
         "1.0",
         "180.818102332848",
         "0.0",
         "29.555406532509",
         "1"
        ],
        [
         "5783",
         "Mgr",
         "19000",
         "24658.0",
         "47027.0",
         "19.0",
         "0.0",
         "0.0",
         "159.105225177912",
         "4.0",
         "53.5481958489624",
         "2"
        ],
        [
         "3248",
         "ProfExe",
         "19500",
         "92663.0",
         "152627.0",
         "3.0",
         "0.0",
         "0.0",
         "106.712627895013",
         "0.0",
         "35.3676568026504",
         "1"
        ],
        [
         "3475",
         "ProfExe",
         "18600",
         "50167.0",
         "96312.0",
         "5.0",
         "0.0",
         "0.0",
         "128.339433854676",
         "1.0",
         "36.3773222013318",
         "1"
        ],
        [
         "4498",
         "ProfExe",
         "6500",
         "60000.0",
         "70000.0",
         "9.0",
         "0.0",
         "0.0",
         "54.7666666666667",
         "2.0",
         null,
         "3"
        ],
        [
         "296",
         "Other",
         "5100",
         "73882.0",
         "96031.0",
         "0.0",
         "0.0",
         "0.0",
         "125.787400113614",
         "1.0",
         "34.4460792217199",
         "1"
        ],
        [
         "3206",
         "Office",
         "11300",
         "62568.0",
         "79009.0",
         "4.0",
         "0.0",
         "3.0",
         "295.334669660005",
         "0.0",
         "28.6002522285656",
         "1"
        ],
        [
         "177",
         "Other",
         "5800",
         null,
         "41119.0",
         "2.0",
         "0.0",
         "0.0",
         "261.405218637153",
         "0.0",
         "42.1919415560653",
         "1"
        ],
        [
         "3414",
         "Other",
         "17700",
         "50886.0",
         "106673.0",
         "2.0",
         "0.0",
         "2.0",
         "57.090659605954",
         "1.0",
         "40.8591131100567",
         "1"
        ],
        [
         "5194",
         "ProfExe",
         "14600",
         "124000.0",
         "168000.0",
         "4.0",
         "0.0",
         "0.0",
         "146.866666666667",
         "2.0",
         null,
         "3"
        ],
        [
         "4301",
         "Other",
         "16000",
         "16300.0",
         "128200.0",
         "10.0",
         "0.0",
         "0.0",
         "366.266666666667",
         "1.0",
         null,
         "3"
        ],
        [
         "1310",
         "ProfExe",
         "50000",
         "160000.0",
         "235000.0",
         "0.3",
         "0.0",
         "0.0",
         "184.7",
         "0.0",
         null,
         "3"
        ],
        [
         "1086",
         "Other",
         "14400",
         "46955.0",
         "67304.0",
         "2.0",
         "0.0",
         "0.0",
         "171.622465396048",
         "0.0",
         "36.5551889478952",
         "1"
        ],
        [
         "3075",
         "Other",
         "12000",
         "36000.0",
         "51900.0",
         "0.1",
         "0.0",
         "0.0",
         "247.5",
         "1.0",
         null,
         "3"
        ],
        [
         "2025",
         "Office",
         "14000",
         "62000.0",
         "88500.0",
         "9.0",
         null,
         null,
         "107.366666666667",
         "0.0",
         null,
         "3"
        ],
        [
         "3590",
         "Other",
         "28400",
         "90823.0",
         "126845.0",
         "1.0",
         "0.0",
         "0.0",
         "188.773454929274",
         "1.0",
         "42.8967151131745",
         "2"
        ],
        [
         "5291",
         "ProfExe",
         "13800",
         "152441.0",
         "184723.0",
         "6.0",
         null,
         "0.0",
         "217.242129053131",
         "3.0",
         "40.8273446328227",
         "1"
        ],
        [
         "3770",
         "Other",
         "8200",
         "101230.0",
         "120087.0",
         "9.0",
         null,
         null,
         "419.272965487339",
         "1.0",
         "40.5582714938504",
         "1"
        ],
        [
         "2517",
         "Office",
         "7500",
         "59000.0",
         "72000.0",
         "5.0",
         "0.0",
         "3.0",
         "295.866666666667",
         "0.0",
         null,
         "3"
        ],
        [
         "4622",
         "ProfExe",
         "6200",
         "60354.0",
         "87596.0",
         "5.0",
         "0.0",
         "0.0",
         "210.173064671918",
         "2.0",
         "34.0548112374986",
         "1"
        ],
        [
         "4700",
         "Office",
         "52900",
         "48825.0",
         "59418.0",
         "13.0",
         "0.0",
         "0.0",
         "102.338682968976",
         "1.0",
         "38.7519949856969",
         "1"
        ],
        [
         "544",
         "ProfExe",
         "25000",
         "95651.0",
         "148280.0",
         "21.0",
         "1.0",
         "0.0",
         "154.565432795941",
         "0.0",
         "42.6953312738916",
         "2"
        ],
        [
         "4914",
         "Other",
         "20900",
         "122807.0",
         "150896.0",
         "5.0",
         "0.0",
         "0.0",
         "123.479537698186",
         "2.0",
         "30.4244811041022",
         "1"
        ],
        [
         "5368",
         "Self",
         "69000",
         "197587.0",
         "295551.0",
         "10.0",
         "0.0",
         "0.0",
         "211.776391168119",
         "3.0",
         "30.3568565177344",
         "1"
        ],
        [
         "4618",
         "Other",
         "36800",
         "109378.0",
         "163684.0",
         null,
         "0.0",
         "0.0",
         "240.232875366581",
         "3.0",
         "35.6915426893493",
         "1"
        ],
        [
         "5057",
         "Other",
         "11000",
         "92521.0",
         "110704.0",
         "13.0",
         "0.0",
         "0.0",
         "208.898485263939",
         "2.0",
         "39.2504332852785",
         "1"
        ],
        [
         "3646",
         "Other",
         "15800",
         null,
         "44144.0",
         "0.0",
         "0.0",
         "0.0",
         "315.812631724602",
         "1.0",
         "25.650384133002",
         "1"
        ],
        [
         "2926",
         "Self",
         "6400",
         "9113.0",
         "46351.0",
         null,
         "0.0",
         "0.0",
         "202.250795832126",
         "0.0",
         "45.1143193876531",
         "2"
        ],
        [
         "3211",
         "Office",
         "13100",
         "73987.0",
         "106557.0",
         "9.0",
         "0.0",
         "0.0",
         "149.452529060326",
         "1.0",
         "37.0085269283031",
         "1"
        ],
        [
         "4771",
         "Other",
         "12900",
         "89510.0",
         "102628.0",
         "20.0",
         "0.0",
         "0.0",
         "117.857172682573",
         "3.0",
         "28.5373540924291",
         "1"
        ],
        [
         "167",
         "Other",
         "2000",
         "32700.0",
         "46740.0",
         "3.0",
         "0.0",
         "2.0",
         "216.933333333333",
         "1.0",
         null,
         "3"
        ],
        [
         "157",
         "Office",
         "5800",
         null,
         "73804.0",
         "1.0",
         "0.0",
         "0.0",
         "71.766557161476",
         "0.0",
         "41.2874233877274",
         "1"
        ],
        [
         "233",
         "Other",
         "3000",
         "119826.0",
         "193500.0",
         "8.0",
         "0.0",
         "0.0",
         "130.033358458961",
         "0.0",
         null,
         "3"
        ]
       ],
       "shape": {
        "columns": 11,
        "rows": 1192
       }
      },
      "text/html": [
       "<div>\n",
       "<style scoped>\n",
       "    .dataframe tbody tr th:only-of-type {\n",
       "        vertical-align: middle;\n",
       "    }\n",
       "\n",
       "    .dataframe tbody tr th {\n",
       "        vertical-align: top;\n",
       "    }\n",
       "\n",
       "    .dataframe thead th {\n",
       "        text-align: right;\n",
       "    }\n",
       "</style>\n",
       "<table border=\"1\" class=\"dataframe\">\n",
       "  <thead>\n",
       "    <tr style=\"text-align: right;\">\n",
       "      <th></th>\n",
       "      <th>JOB</th>\n",
       "      <th>LOAN</th>\n",
       "      <th>MORTDUE</th>\n",
       "      <th>VALUE</th>\n",
       "      <th>YOJ</th>\n",
       "      <th>DEROG</th>\n",
       "      <th>DELINQ</th>\n",
       "      <th>CLAGE</th>\n",
       "      <th>NINQ</th>\n",
       "      <th>DEBTINC</th>\n",
       "      <th>gDEBTINC</th>\n",
       "    </tr>\n",
       "  </thead>\n",
       "  <tbody>\n",
       "    <tr>\n",
       "      <th>1344</th>\n",
       "      <td>ProfExe</td>\n",
       "      <td>17100</td>\n",
       "      <td>100082.0</td>\n",
       "      <td>119585.0</td>\n",
       "      <td>1.0</td>\n",
       "      <td>0.0</td>\n",
       "      <td>0.0</td>\n",
       "      <td>147.915809</td>\n",
       "      <td>0.0</td>\n",
       "      <td>34.734277</td>\n",
       "      <td>1</td>\n",
       "    </tr>\n",
       "    <tr>\n",
       "      <th>625</th>\n",
       "      <td>NaN</td>\n",
       "      <td>15000</td>\n",
       "      <td>NaN</td>\n",
       "      <td>74750.0</td>\n",
       "      <td>NaN</td>\n",
       "      <td>NaN</td>\n",
       "      <td>NaN</td>\n",
       "      <td>NaN</td>\n",
       "      <td>NaN</td>\n",
       "      <td>NaN</td>\n",
       "      <td>3</td>\n",
       "    </tr>\n",
       "    <tr>\n",
       "      <th>5908</th>\n",
       "      <td>ProfExe</td>\n",
       "      <td>14900</td>\n",
       "      <td>97646.0</td>\n",
       "      <td>139884.0</td>\n",
       "      <td>13.0</td>\n",
       "      <td>0.0</td>\n",
       "      <td>0.0</td>\n",
       "      <td>119.083116</td>\n",
       "      <td>5.0</td>\n",
       "      <td>36.360597</td>\n",
       "      <td>1</td>\n",
       "    </tr>\n",
       "    <tr>\n",
       "      <th>2991</th>\n",
       "      <td>Mgr</td>\n",
       "      <td>8500</td>\n",
       "      <td>53459.0</td>\n",
       "      <td>62678.0</td>\n",
       "      <td>13.0</td>\n",
       "      <td>0.0</td>\n",
       "      <td>0.0</td>\n",
       "      <td>116.863449</td>\n",
       "      <td>0.0</td>\n",
       "      <td>30.052902</td>\n",
       "      <td>1</td>\n",
       "    </tr>\n",
       "    <tr>\n",
       "      <th>1545</th>\n",
       "      <td>ProfExe</td>\n",
       "      <td>17800</td>\n",
       "      <td>58942.0</td>\n",
       "      <td>91483.0</td>\n",
       "      <td>5.0</td>\n",
       "      <td>0.0</td>\n",
       "      <td>0.0</td>\n",
       "      <td>123.736674</td>\n",
       "      <td>0.0</td>\n",
       "      <td>28.155960</td>\n",
       "      <td>1</td>\n",
       "    </tr>\n",
       "    <tr>\n",
       "      <th>...</th>\n",
       "      <td>...</td>\n",
       "      <td>...</td>\n",
       "      <td>...</td>\n",
       "      <td>...</td>\n",
       "      <td>...</td>\n",
       "      <td>...</td>\n",
       "      <td>...</td>\n",
       "      <td>...</td>\n",
       "      <td>...</td>\n",
       "      <td>...</td>\n",
       "      <td>...</td>\n",
       "    </tr>\n",
       "    <tr>\n",
       "      <th>3688</th>\n",
       "      <td>Other</td>\n",
       "      <td>33900</td>\n",
       "      <td>13154.0</td>\n",
       "      <td>62208.0</td>\n",
       "      <td>1.0</td>\n",
       "      <td>0.0</td>\n",
       "      <td>0.0</td>\n",
       "      <td>111.980657</td>\n",
       "      <td>1.0</td>\n",
       "      <td>37.466977</td>\n",
       "      <td>1</td>\n",
       "    </tr>\n",
       "    <tr>\n",
       "      <th>2404</th>\n",
       "      <td>ProfExe</td>\n",
       "      <td>14100</td>\n",
       "      <td>79345.0</td>\n",
       "      <td>135554.0</td>\n",
       "      <td>15.0</td>\n",
       "      <td>0.0</td>\n",
       "      <td>0.0</td>\n",
       "      <td>301.563991</td>\n",
       "      <td>0.0</td>\n",
       "      <td>29.178133</td>\n",
       "      <td>1</td>\n",
       "    </tr>\n",
       "    <tr>\n",
       "      <th>1173</th>\n",
       "      <td>ProfExe</td>\n",
       "      <td>15500</td>\n",
       "      <td>36650.0</td>\n",
       "      <td>62963.0</td>\n",
       "      <td>6.0</td>\n",
       "      <td>0.0</td>\n",
       "      <td>0.0</td>\n",
       "      <td>260.856789</td>\n",
       "      <td>0.0</td>\n",
       "      <td>24.299059</td>\n",
       "      <td>1</td>\n",
       "    </tr>\n",
       "    <tr>\n",
       "      <th>3209</th>\n",
       "      <td>Office</td>\n",
       "      <td>28900</td>\n",
       "      <td>77916.0</td>\n",
       "      <td>130728.0</td>\n",
       "      <td>2.0</td>\n",
       "      <td>0.0</td>\n",
       "      <td>0.0</td>\n",
       "      <td>290.772608</td>\n",
       "      <td>1.0</td>\n",
       "      <td>39.095476</td>\n",
       "      <td>1</td>\n",
       "    </tr>\n",
       "    <tr>\n",
       "      <th>2728</th>\n",
       "      <td>ProfExe</td>\n",
       "      <td>14300</td>\n",
       "      <td>31607.0</td>\n",
       "      <td>70118.0</td>\n",
       "      <td>6.0</td>\n",
       "      <td>0.0</td>\n",
       "      <td>0.0</td>\n",
       "      <td>255.719567</td>\n",
       "      <td>0.0</td>\n",
       "      <td>23.062914</td>\n",
       "      <td>1</td>\n",
       "    </tr>\n",
       "  </tbody>\n",
       "</table>\n",
       "<p>1192 rows × 11 columns</p>\n",
       "</div>"
      ],
      "text/plain": [
       "          JOB   LOAN   MORTDUE     VALUE   YOJ  DEROG  DELINQ       CLAGE  \\\n",
       "1344  ProfExe  17100  100082.0  119585.0   1.0    0.0     0.0  147.915809   \n",
       "625       NaN  15000       NaN   74750.0   NaN    NaN     NaN         NaN   \n",
       "5908  ProfExe  14900   97646.0  139884.0  13.0    0.0     0.0  119.083116   \n",
       "2991      Mgr   8500   53459.0   62678.0  13.0    0.0     0.0  116.863449   \n",
       "1545  ProfExe  17800   58942.0   91483.0   5.0    0.0     0.0  123.736674   \n",
       "...       ...    ...       ...       ...   ...    ...     ...         ...   \n",
       "3688    Other  33900   13154.0   62208.0   1.0    0.0     0.0  111.980657   \n",
       "2404  ProfExe  14100   79345.0  135554.0  15.0    0.0     0.0  301.563991   \n",
       "1173  ProfExe  15500   36650.0   62963.0   6.0    0.0     0.0  260.856789   \n",
       "3209   Office  28900   77916.0  130728.0   2.0    0.0     0.0  290.772608   \n",
       "2728  ProfExe  14300   31607.0   70118.0   6.0    0.0     0.0  255.719567   \n",
       "\n",
       "      NINQ    DEBTINC  gDEBTINC  \n",
       "1344   0.0  34.734277         1  \n",
       "625    NaN        NaN         3  \n",
       "5908   5.0  36.360597         1  \n",
       "2991   0.0  30.052902         1  \n",
       "1545   0.0  28.155960         1  \n",
       "...    ...        ...       ...  \n",
       "3688   1.0  37.466977         1  \n",
       "2404   0.0  29.178133         1  \n",
       "1173   0.0  24.299059         1  \n",
       "3209   1.0  39.095476         1  \n",
       "2728   0.0  23.062914         1  \n",
       "\n",
       "[1192 rows x 11 columns]"
      ]
     },
     "execution_count": 60,
     "metadata": {},
     "output_type": "execute_result"
    }
   ],
   "source": [
    "reason = \"REASON\"\n",
    "x_train_woe = x_train.drop(reason,axis=1)\n",
    "x_test_woe = x_test.drop(reason,axis= 1)\n",
    "x_test_woe"
   ]
  },
  {
   "cell_type": "markdown",
   "metadata": {},
   "source": [
    "## 3.Fill missing value and normalization\n"
   ]
  },
  {
   "cell_type": "markdown",
   "metadata": {},
   "source": [
    "### xử lí các biến số bằng 'median' và StandardScaler để chuẩn hóa trước khi cho vao mô hình"
   ]
  },
  {
   "cell_type": "code",
   "execution_count": 61,
   "metadata": {},
   "outputs": [],
   "source": [
    "import numpy as np\n",
    "from sklearn.pipeline import Pipeline\n",
    "from sklearn.impute import SimpleImputer\n",
    "from sklearn.preprocessing import StandardScaler, OrdinalEncoder, OneHotEncoder\n",
    "nums_transform = Pipeline(steps= [\n",
    "    (\"imputers\", SimpleImputer(strategy=\"median\")),\n",
    "    (\"scale\", StandardScaler())\n",
    "])"
   ]
  },
  {
   "cell_type": "markdown",
   "metadata": {},
   "source": [
    "### xử lí missing của cột JOB bằng 'most_frequent' và OnehotEncoder để số hóa chúng trước khi cho vào mô hình "
   ]
  },
  {
   "cell_type": "code",
   "execution_count": 62,
   "metadata": {},
   "outputs": [],
   "source": [
    "JOB = x_train_woe[\"JOB\"].unique()\n",
    "nom_transform = Pipeline(steps=[\n",
    "   (\"imputer\",SimpleImputer(strategy=\"most_frequent\")),\n",
    "   (\"scale\",OneHotEncoder(sparse_output= False))\n",
    "])"
   ]
  },
  {
   "cell_type": "code",
   "execution_count": 63,
   "metadata": {},
   "outputs": [],
   "source": [
    "from sklearn.compose import ColumnTransformer\n",
    "\n",
    "preprocess = ColumnTransformer(transformers=[\n",
    "    (\"nums_transform\", nums_transform, [\"MORTDUE\", \"VALUE\", \"YOJ\", \"DEROG\", \"DELINQ\", \"CLAGE\", \"NINQ\", \"DEBTINC\"]),\n",
    "    (\"one_transform\", nom_transform, [\"JOB\"]),\n",
    "])\n"
   ]
  },
  {
   "cell_type": "markdown",
   "metadata": {},
   "source": [
    "## 3. Imbalance data"
   ]
  },
  {
   "cell_type": "markdown",
   "metadata": {},
   "source": [
    "### Tránh mất căn bằng dữ liệu giúp mô hình được train tốt hơn"
   ]
  },
  {
   "cell_type": "code",
   "execution_count": 64,
   "metadata": {},
   "outputs": [
    {
     "data": {
      "image/png": "[encoded data removed]",
      "text/plain": [
       "<Figure size 1000x400 with 2 Axes>"
      ]
     },
     "metadata": {},
     "output_type": "display_data"
    }
   ],
   "source": [
    "plt.figure(figsize = (10,4))\n",
    "plt.subplot(1,2,1)\n",
    "y_train.value_counts().plot(kind = 'bar')\n",
    "plt.title('Data distribution in the training set')\n",
    "\n",
    "\n",
    "plt.subplot(1,2,2)\n",
    "y_test.value_counts().plot(kind = 'bar')\n",
    "plt.title('Data distribution in the test set')\n",
    "\n",
    "\n",
    "plt.show()"
   ]
  },
  {
   "cell_type": "code",
   "execution_count": 65,
   "metadata": {},
   "outputs": [],
   "source": [
    "from imblearn.over_sampling import RandomOverSampler \n",
    "\n",
    "ROS = RandomOverSampler(random_state = 42)\n",
    "x_train_ros, y_train_ros = ROS.fit_resample(x_train_woe, y_train)\n",
    "\n",
    "df_train_ros = pd.merge(x_train_ros, y_train_ros, left_index = True, right_index = True)"
   ]
  },
  {
   "cell_type": "code",
   "execution_count": 66,
   "metadata": {},
   "outputs": [
    {
     "data": {
      "image/png": "[encoded data removed]",
      "text/plain": [
       "<Figure size 640x480 with 1 Axes>"
      ]
     },
     "metadata": {},
     "output_type": "display_data"
    }
   ],
   "source": [
    "plt.figure()\n",
    "df_train_ros['BAD'].value_counts().plot(kind = 'bar')\n",
    "plt.title('Data distribution in the training set after balancing')\n",
    "plt.show()"
   ]
  },
  {
   "cell_type": "markdown",
   "metadata": {},
   "source": [
    "# III.Train model  "
   ]
  },
  {
   "cell_type": "code",
   "execution_count": 67,
   "metadata": {},
   "outputs": [],
   "source": [
    "# Khởi tạo 2 mô hình LogisticRegression và RandomForestClassifier\n",
    "\n",
    "from sklearn.linear_model import LogisticRegression\n",
    "from sklearn.ensemble import RandomForestClassifier\n",
    "from sklearn.ensemble import GradientBoostingClassifier\n",
    "from sklearn.svm import SVC\n",
    "\n",
    "reg = Pipeline(steps= [\n",
    "    (\"procession\",preprocess),\n",
    "    (\"model\", LogisticRegression(solver='saga')),\n",
    "])\n",
    "\n",
    "reg1 = Pipeline(steps= [\n",
    "    (\"procession\",preprocess),\n",
    "    (\"model\", RandomForestClassifier()),\n",
    "])\n",
    "\n",
    "reg2 = Pipeline(steps= [\n",
    "    (\"procession\",preprocess),\n",
    "    (\"model\", GradientBoostingClassifier()),\n",
    "])\n",
    "\n",
    "reg3 = Pipeline(steps= [\n",
    "    (\"procession\",preprocess),\n",
    "    (\"model\", SVC(probability=True)),\n",
    "])"
   ]
  },
  {
   "cell_type": "markdown",
   "metadata": {},
   "source": [
    "## Khởi tạo hàm train model và hàm vẽ confusion matrix"
   ]
  },
  {
   "cell_type": "code",
   "execution_count": 68,
   "metadata": {},
   "outputs": [],
   "source": [
    "from sklearn.model_selection import GridSearchCV\n",
    "from sklearn.metrics import balanced_accuracy_score, confusion_matrix, classification_report\n",
    "\n",
    "# Define training function\n",
    "def training(model, params, X_train, y_train, X_test, y_test):\n",
    "    grid_search_model = GridSearchCV(model, params, cv = 5, scoring = 'accuracy')\n",
    "    grid_search_model.fit(X_train, y_train)\n",
    "    print('Best parameters: ', grid_search_model.best_params_)\n",
    "    best_model = grid_search_model.best_estimator_\n",
    "    \n",
    "    # evaluate the model on the test set \n",
    "    y_pred = best_model.predict(X_test)\n",
    "    print('Balanced_accuracy_score: ', balanced_accuracy_score(y_test, y_pred))\n",
    "    return grid_search_model, y_pred\n",
    "\n",
    "# function to visualize confution matrix\n",
    "def plot_CF(CF_mat):\n",
    "    plt.figure(figsize = (4,3))\n",
    "    sns.heatmap(CF_mat, annot = True, fmt = 'd', cmap = 'Blues')\n",
    "    plt.xlabel('Predicted')\n",
    "    plt.ylabel('True')\n",
    "    plt.title('Confusion matrix')\n",
    "    plt.show()"
   ]
  },
  {
   "cell_type": "markdown",
   "metadata": {},
   "source": [
    "## Khởi tạo hàm vẽ đường cong ROC"
   ]
  },
  {
   "cell_type": "code",
   "execution_count": 69,
   "metadata": {},
   "outputs": [],
   "source": [
    "import matplotlib.pyplot as plt\n",
    "from sklearn.metrics import roc_curve, auc\n",
    "\n",
    "def plot_auc(y_true, y_scores, pos_label=1):\n",
    "    fpr, tpr, _ = roc_curve(y_true, y_scores, pos_label=pos_label)\n",
    "    roc_auc = auc(fpr, tpr)\n",
    "\n",
    "    plt.figure(figsize=(8, 6))\n",
    "    plt.plot(fpr, tpr, color='blue', lw=2, label=f'AUC = {roc_auc:.2f}')\n",
    "    plt.plot([0, 1], [0, 1], color='gray', linestyle='--')  # Đường chéo\n",
    "    plt.xlim([0.0, 1.0])\n",
    "    plt.ylim([0.0, 1.05])\n",
    "    plt.xlabel('False Positive Rate')\n",
    "    plt.ylabel('True Positive Rate')\n",
    "    plt.title('ROC Curve (AUC)')\n",
    "    plt.legend(loc=\"lower right\")\n",
    "    plt.grid(True)\n",
    "    plt.show()\n"
   ]
  },
  {
   "cell_type": "markdown",
   "metadata": {},
   "source": [
    "### 1. LogisticRegression"
   ]
  },
  {
   "cell_type": "code",
   "execution_count": 70,
   "metadata": {},
   "outputs": [
    {
     "name": "stderr",
     "output_type": "stream",
     "text": [
      "C:\\Users\\ADMIN\\AppData\\Roaming\\Python\\Python311\\site-packages\\sklearn\\linear_model\\_logistic.py:1197: UserWarning: l1_ratio parameter is only used when penalty is 'elasticnet'. Got (penalty=None)\n",
      "  warnings.warn(\n",
      "C:\\Users\\ADMIN\\AppData\\Roaming\\Python\\Python311\\site-packages\\sklearn\\linear_model\\_logistic.py:1197: UserWarning: l1_ratio parameter is only used when penalty is 'elasticnet'. Got (penalty=None)\n",
      "  warnings.warn(\n",
      "C:\\Users\\ADMIN\\AppData\\Roaming\\Python\\Python311\\site-packages\\sklearn\\linear_model\\_logistic.py:1197: UserWarning: l1_ratio parameter is only used when penalty is 'elasticnet'. Got (penalty=None)\n",
      "  warnings.warn(\n",
      "C:\\Users\\ADMIN\\AppData\\Roaming\\Python\\Python311\\site-packages\\sklearn\\linear_model\\_logistic.py:1197: UserWarning: l1_ratio parameter is only used when penalty is 'elasticnet'. Got (penalty=None)\n",
      "  warnings.warn(\n"
     ]
    },
    {
     "name": "stdout",
     "output_type": "stream",
     "text": [
      "Best parameters:  {'model__class_weight': 'balanced', 'model__l1_ratio': 0.5, 'model__penalty': None}\n",
      "Balanced_accuracy_score:  0.732015516672169\n"
     ]
    },
    {
     "name": "stderr",
     "output_type": "stream",
     "text": [
      "C:\\Users\\ADMIN\\AppData\\Roaming\\Python\\Python311\\site-packages\\sklearn\\linear_model\\_logistic.py:1197: UserWarning: l1_ratio parameter is only used when penalty is 'elasticnet'. Got (penalty=None)\n",
      "  warnings.warn(\n",
      "C:\\Users\\ADMIN\\AppData\\Roaming\\Python\\Python311\\site-packages\\sklearn\\linear_model\\_logistic.py:1197: UserWarning: l1_ratio parameter is only used when penalty is 'elasticnet'. Got (penalty=None)\n",
      "  warnings.warn(\n"
     ]
    }
   ],
   "source": [
    "log_params = {\n",
    "    'model__penalty': ['elasticnet', None],\n",
    "    'model__class_weight': ['balanced'],\n",
    "    'model__l1_ratio': [0.5]\n",
    "}\n",
    "GS_log, y_pred_log = training(reg,log_params ,x_train_ros, y_train_ros, x_test, y_test)"
   ]
  },
  {
   "cell_type": "code",
   "execution_count": 71,
   "metadata": {},
   "outputs": [
    {
     "data": {
      "image/png": "[encoded data removed]",
      "text/plain": [
       "<Figure size 400x300 with 2 Axes>"
      ]
     },
     "metadata": {},
     "output_type": "display_data"
    }
   ],
   "source": [
    "C_log = confusion_matrix(y_test, y_pred_log)\n",
    "plot_CF(C_log)"
   ]
  },
  {
   "cell_type": "code",
   "execution_count": 72,
   "metadata": {},
   "outputs": [
    {
     "name": "stderr",
     "output_type": "stream",
     "text": [
      "C:\\Users\\ADMIN\\AppData\\Roaming\\Python\\Python311\\site-packages\\sklearn\\linear_model\\_sag.py:349: ConvergenceWarning: The max_iter was reached which means the coef_ did not converge\n",
      "  warnings.warn(\n"
     ]
    },
    {
     "data": {
      "image/png": "[encoded data removed]",
      "text/plain": [
       "<Figure size 800x600 with 1 Axes>"
      ]
     },
     "metadata": {},
     "output_type": "display_data"
    }
   ],
   "source": [
    "# Vẽ ROC Curve\n",
    "reg.fit(x_train_ros,y_train_ros)\n",
    "y_scores = reg.predict_proba(x_test)[:, 1]\n",
    "plot_auc(y_test, y_scores)"
   ]
  },
  {
   "cell_type": "markdown",
   "metadata": {},
   "source": [
    "### 2. Randomforest"
   ]
  },
  {
   "cell_type": "code",
   "execution_count": 73,
   "metadata": {},
   "outputs": [
    {
     "name": "stdout",
     "output_type": "stream",
     "text": [
      "Best parameters:  {'model__criterion': 'gini', 'model__max_depth': 15, 'model__n_estimators': 100}\n",
      "Balanced_accuracy_score:  0.8451799273687686\n"
     ]
    }
   ],
   "source": [
    "rf_params = {\n",
    "    'model__n_estimators': [100, 200],\n",
    "    'model__criterion': ['gini', 'entropy', 'log_loss'],\n",
    "    'model__max_depth': [10, 12, 15]\n",
    "}\n",
    "\n",
    "GS_rf, y_pred_rf = training(reg1, rf_params, x_train_ros, y_train_ros, x_test, y_test)"
   ]
  },
  {
   "cell_type": "code",
   "execution_count": 74,
   "metadata": {},
   "outputs": [
    {
     "data": {
      "image/png": "[encoded data removed]",
      "text/plain": [
       "<Figure size 400x300 with 2 Axes>"
      ]
     },
     "metadata": {},
     "output_type": "display_data"
    }
   ],
   "source": [
    "C_rf = confusion_matrix(y_test, y_pred_rf)\n",
    "plot_CF(C_rf)"
   ]
  },
  {
   "cell_type": "code",
   "execution_count": 75,
   "metadata": {},
   "outputs": [
    {
     "data": {
      "image/png": "[encoded data removed]",
      "text/plain": [
       "<Figure size 800x600 with 1 Axes>"
      ]
     },
     "metadata": {},
     "output_type": "display_data"
    }
   ],
   "source": [
    "# Vẽ ROC Curve\n",
    "reg1.fit(x_train_ros,y_train_ros)\n",
    "y_scores = reg1.predict_proba(x_test)[:, 1]\n",
    "plot_auc(y_test, y_scores)"
   ]
  },
  {
   "cell_type": "markdown",
   "metadata": {},
   "source": [
    "### 3.GradientBoosting"
   ]
  },
  {
   "cell_type": "code",
   "execution_count": 76,
   "metadata": {},
   "outputs": [
    {
     "name": "stdout",
     "output_type": "stream",
     "text": [
      "Best parameters:  {'model__max_depth': 8}\n",
      "Balanced_accuracy_score:  0.819197755034665\n"
     ]
    }
   ],
   "source": [
    "gbc_params = {\n",
    "    'model__max_depth': [2,4,6,8],\n",
    "}\n",
    "\n",
    "GS_gbc, y_pred_gbc = training(reg2, gbc_params, x_train_ros, y_train_ros, x_test, y_test)"
   ]
  },
  {
   "cell_type": "code",
   "execution_count": 77,
   "metadata": {},
   "outputs": [
    {
     "data": {
      "image/png": "[encoded data removed]",
      "text/plain": [
       "<Figure size 400x300 with 2 Axes>"
      ]
     },
     "metadata": {},
     "output_type": "display_data"
    }
   ],
   "source": [
    "C_gbc = confusion_matrix(y_test, y_pred_gbc)\n",
    "plot_CF(C_gbc)"
   ]
  },
  {
   "cell_type": "code",
   "execution_count": 78,
   "metadata": {},
   "outputs": [
    {
     "data": {
      "image/png": "[encoded data removed]",
      "text/plain": [
       "<Figure size 800x600 with 1 Axes>"
      ]
     },
     "metadata": {},
     "output_type": "display_data"
    }
   ],
   "source": [
    "# Vẽ ROC Curve\n",
    "reg2.fit(x_train_ros,y_train_ros)\n",
    "y_scores = reg2.predict_proba(x_test)[:, 1]\n",
    "plot_auc(y_test, y_scores)"
   ]
  },
  {
   "cell_type": "markdown",
   "metadata": {},
   "source": [
    "### 4. Support vector machine\n"
   ]
  },
  {
   "cell_type": "code",
   "execution_count": 79,
   "metadata": {},
   "outputs": [
    {
     "name": "stdout",
     "output_type": "stream",
     "text": [
      "Best parameters:  {'model__C': 1, 'model__kernel': 'rbf'}\n",
      "Balanced_accuracy_score:  0.7840623968306372\n"
     ]
    }
   ],
   "source": [
    "svm_params = {\n",
    "    'model__C': [0.1, 0.5, 1],\n",
    "    'model__kernel': ['rbf', 'linear', 'poly']\n",
    "}\n",
    "\n",
    "GS_svm, y_pred_svm = training(reg3, svm_params, x_train_ros, y_train_ros, x_test, y_test)"
   ]
  },
  {
   "cell_type": "code",
   "execution_count": 80,
   "metadata": {},
   "outputs": [
    {
     "data": {
      "image/png": "[encoded data removed]",
      "text/plain": [
       "<Figure size 400x300 with 2 Axes>"
      ]
     },
     "metadata": {},
     "output_type": "display_data"
    }
   ],
   "source": [
    "C_svm = confusion_matrix(y_test, y_pred_svm)\n",
    "plot_CF(C_svm)"
   ]
  },
  {
   "cell_type": "code",
   "execution_count": 81,
   "metadata": {},
   "outputs": [
    {
     "data": {
      "image/png": "[encoded data removed]",
      "text/plain": [
       "<Figure size 800x600 with 1 Axes>"
      ]
     },
     "metadata": {},
     "output_type": "display_data"
    }
   ],
   "source": [
    "# Vẽ ROC Curve\n",
    "reg3.fit(x_train_ros,y_train_ros)\n",
    "y_scores = reg3.predict_proba(x_test)[:, 1]\n",
    "plot_auc(y_test, y_scores)"
   ]
  },
  {
   "cell_type": "code",
   "execution_count": null,
   "metadata": {},
   "outputs": [],
   "source": []
  }
 ],
 "metadata": {
  "kernelspec": {
   "display_name": "Python 3",
   "language": "python",
   "name": "python3"
  },
  "language_info": {
   "codemirror_mode": {
    "name": "ipython",
    "version": 3
   },
   "file_extension": ".py",
   "mimetype": "text/x-python",
   "name": "python",
   "nbconvert_exporter": "python",
   "pygments_lexer": "ipython3",
   "version": "3.11.0"
  }
 },
 "nbformat": 4,
 "nbformat_minor": 2
}
